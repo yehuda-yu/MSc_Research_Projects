{
  "cells": [
    {
      "cell_type": "markdown",
      "source": [
        "# Packages and functions"
      ],
      "metadata": {
        "id": "JnsO0MZ5OGvS"
      }
    },
    {
      "cell_type": "code",
      "execution_count": null,
      "metadata": {
        "id": "pNAPiQ_hjRrf"
      },
      "outputs": [],
      "source": [
        "import pandas as pd\n",
        "import numpy as np\n",
        "import matplotlib.pyplot as plt\n",
        "import seaborn as sns\n",
        "sns.set(style=\"ticks\", font_scale=1.5)\n",
        "# Handle date time conversions between pandas and matplotlib\n",
        "from pandas.plotting import register_matplotlib_converters\n",
        "register_matplotlib_converters()\n",
        "from matplotlib.pyplot import text\n",
        "from google.colab import data_table\n",
        "data_table.enable_dataframe_formatter()"
      ]
    },
    {
      "cell_type": "markdown",
      "source": [
        "new function from rep 5"
      ],
      "metadata": {
        "id": "MHK0sC-IIFIp"
      }
    },
    {
      "cell_type": "code",
      "execution_count": null,
      "metadata": {
        "id": "VrESj19gCna0"
      },
      "outputs": [],
      "source": [
        "def co2in_read(co2in_path,temp_path,start,end):\n",
        "\n",
        "#-------------------------------- co2 in data--------------------------------\n",
        "  df = pd.read_excel(co2in_path) # reading the raw date (xlsx)\n",
        "  # combine columns to datime:\n",
        "  time = (pd.to_datetime(df['Hour'].astype(str) + ':' + df['Minute'].astype(str), format='%H:%M').dt.time)\n",
        "  df['Time'] = time\n",
        "  df['Year'] = 2022\n",
        "  df['Timestap'] = pd.to_datetime(df[[\"Year\", \"Month\", \"Day\",'Hour','Minute']])\n",
        "  df = df.set_index(df['Timestap'])\n",
        "  df_clean = df[['Rec No.', 'CO2', 'Error']]\n",
        "  df_clean = df_clean.resample('1min').mean() # resample the data for comparing the with temp and co2 out\n",
        "\n",
        "#-------------------------------- Temp data--------------------------------\n",
        "\n",
        "  # loading the temp data:\n",
        "  df_temp = pd.read_csv(temp_path) # reading the raw date (csv)\n",
        "  df_temp = df_temp.set_index('Time')\n",
        "  df_temp.index = pd.to_datetime(df_temp.index) # convert to datime format\n",
        "  df_temp = df_temp.resample('1min').mean()\n",
        "  df_temp = df_temp.interpolate() # interpolate Nan values\n",
        "  plt.plot(df_temp)\n",
        "\n",
        "\n",
        "#-------------------------------- Join the 2 dfs to one--------------------------------\n",
        "  \n",
        "  # Join the 3 dfs to one\n",
        "  df_exp = df_temp[start:end]\n",
        "  df_exp['co2_in'] = df_clean['CO2'].loc[start:end] #co2 in data\n",
        "  time_values = np.arange(1, len(df_exp['co2_in'])+1)\n",
        "  time_values=time_values.tolist()\n",
        "  df_exp[\"time(min)\"] = time_values\n",
        "  return df_exp"
      ]
    },
    {
      "cell_type": "code",
      "source": [
        "def co2in_read_new(co2in_path,temp_path,start,end):\n",
        "\n",
        "#-------------------------------- co2 in data--------------------------------\n",
        "  df = pd.read_excel(co2in_path) # reading the raw date (xlsx)\n",
        "  # combine columns to datime:\n",
        "  df = df.interpolate()\n",
        "  df['Hour'] = df['Hour'].astype(int)\n",
        "  df['Minute'] = df['Minute'].astype(int)\n",
        "  df['Month'] = df['Month'].astype(int)\n",
        "  df['Day'] = df['Day'].astype(int)\n",
        "  df['Year'] = 2022\n",
        "\n",
        "  time = (pd.to_datetime(df['Hour'].astype(str) + ':' + df['Minute'].astype(str), format='%H:%M').dt.time)\n",
        "  df['Time'] = time\n",
        "  df['Timestap'] = pd.to_datetime(df[[\"Year\", \"Month\", \"Day\",'Hour','Minute']])\n",
        "  df_clean = df[['Timestap','Rec No.', 'CO2', 'Error']]\n",
        "  df_clean = df_clean.set_index(df_clean['Timestap'])\n",
        "  df_clean = df_clean.resample('1min').mean() # resample the data for comparing the with temp and co2 out\n",
        "  plt.plot(df_clean['CO2'])\n",
        "\n",
        "#-------------------------------- Temp data--------------------------------\n",
        "\n",
        "  # loading the temp data:\n",
        "  df_temp = pd.read_csv(temp_path) # reading the raw date (csv)\n",
        "  df_temp = df_temp.set_index('Time')\n",
        "  df_temp.index = pd.to_datetime(df_temp.index) # convert to datime format\n",
        "  df_temp = df_temp.resample('1min').mean()\n",
        "  df_temp = df_temp.interpolate() # interpolate Nan values\n",
        "  plt.plot(df_temp)\n",
        "\n",
        "\n",
        "#-------------------------------- Join the 2 dfs to one--------------------------------\n",
        "  \n",
        "  # Join the 3 dfs to one\n",
        "  df_exp = df_temp[start:end]\n",
        "  df_exp['co2_in'] = df_clean['CO2'].loc[start:end] #co2 in data\n",
        "  time_values = np.arange(1, len(df_exp['co2_in'])+1)\n",
        "  time_values=time_values.tolist()\n",
        "  df_exp[\"time(min)\"] = time_values\n",
        "  return df_exp"
      ],
      "metadata": {
        "id": "EraEqvEBHcW9"
      },
      "execution_count": null,
      "outputs": []
    },
    {
      "cell_type": "markdown",
      "source": [
        "$CO_2$ *file*"
      ],
      "metadata": {
        "id": "NpDmoRkl9MQ2"
      }
    },
    {
      "cell_type": "code",
      "source": [
        "# # importing the essential libraries\n",
        "# import pandas as pd\n",
        "# import subprocess\n",
        "# import os\n",
        "# import time\n",
        "# from pathlib import Path\n",
        "# import logging\n",
        "# import requests\n",
        "# import fnmatch, shutil\n",
        "\n",
        "# #########Instructions#########\n",
        "# # 1. Define paths to .dat file and project folder.\n",
        "# # 2. Go to csv_to_df function, and edit the wanted columns in your dataframe.\n",
        "# # 3. Run all.\n",
        "# # 4. Have fun with your new pandas dataframe.\n",
        "# ##############################\n",
        "\n",
        "\n",
        "# #################DEFINE PATHS HERE, and then RUN ALL#################\n",
        "# # global vars\n",
        "# data_folder_path = \"/content/drive/MyDrive/Greenwall/co2_and_counting_people\" # path to your project folder (where the csv is going to be saved)\n",
        "# file_dat_source = \"/content/drive/MyDrive/Greenwall/co2_and_counting_people/Co2_different_rooms_exp/CR1000_M&M-VSLab_indoor_ProgRas(6).dat\" # direct path to original .dat file \n",
        "# ######################################################################\n",
        "\n",
        "# # dat to csv conversion\n",
        "# def downloadCsv(file_dat_source):\n",
        "\n",
        "#     t = time.localtime()\n",
        "#     timestamp = time.strftime('%b-%d-%Y_%H%M', t)\n",
        "    \n",
        "\n",
        "#     #url = 'link' # link to the *.dat file  - UNCOMMENT IF YOU WANT TO DOWNLOAD FROM URL\n",
        "#     #r = requests.get(url, allow_redirects=True) - UNCOMMENT IF YOU WANT TO DOWNLOAD FROM URL\n",
        "    \n",
        "    \n",
        "#     file_dat = f'{data_folder_path}/{timestamp}.dat'\n",
        "#     file_csv = f'{data_folder_path}/{timestamp}.csv'\n",
        "#     latest_csv = f'{data_folder_path}/latest.csv'\n",
        "#     shutil.copyfile(file_dat_source, file_dat) # making a copy of the latest dat (source)\n",
        "    \n",
        "#     #open(file_dat, 'wb').write(r.content) # download source *.dat file from url to local - UNCOMMENT IF YOU WANT TO DOWNLOAD FROM URL\n",
        "\n",
        "#     # converting dat to csv\n",
        "#     with open(file_dat) as f:\n",
        "#         with open(file_csv, \"w\") as f1:\n",
        "#             next(f) # skip false header line\n",
        "#             for line in f:\n",
        "#                 f1.write(line)\n",
        "\n",
        "#     shutil.copyfile(file_csv, latest_csv) # making a copy of the latest csv\n",
        "       \n",
        "#     # remove temp dat+ csv files, leaving only latest.csv\n",
        "#     if os.path.exists(file_dat):\n",
        "#       os.remove(file_dat)\n",
        "#     if os.path.exists(file_csv):\n",
        "#       os.remove(file_csv)\n",
        "   \n",
        "# # csv to pandas df conversion\n",
        "# def csv_to_df(data_folder_path):\n",
        "#   df = pd.read_csv(f'{data_folder_path}/latest.csv', parse_dates=['TIMESTAMP'], low_memory=False) #\n",
        "\n",
        "#   # convert columns to numeric values\n",
        "#   for col in df.columns:\n",
        "#     if col != \"TIMESTAMP\": \n",
        "#       df[col] = df[col].astype(float, errors = 'ignore') \n",
        "#       df.dropna(subset = [col], inplace=True)\n",
        "\n",
        "  \n",
        "#   df = df[['TIMESTAMP','Par_Avg', 'Temp_in_Avg', 'Temp_out_Avg', 'Rh_in_Avg', 'Rh_out_Avg']] # choose your wanted columns from your df\n",
        "#   df = df.iloc[3:] #take the data, starting from the 3rd row (in your dat file, you may need a different start row)\n",
        "#   df['TIMESTAMP'] = pd.to_datetime(df['TIMESTAMP']) # convert timestamp column to datetime object type\n",
        "#   return df\n",
        "\n",
        "# ##########CALLING THE FUNCTIONS##########\n",
        "# # calling the functions to convert dat->csv->pandas df\n",
        "# downloadCsv(file_dat_source) #don't forget to define paths at top\n",
        "# my_df = csv_to_df(data_folder_path) # your dataf"
      ],
      "metadata": {
        "id": "2GUApjBT9K1_"
      },
      "execution_count": null,
      "outputs": []
    },
    {
      "cell_type": "code",
      "source": [
        "path= \"/content/drive/MyDrive/Greenwall/co2_and_counting_people/latest.csv\"\n",
        "df_co2_out = pd.read_csv(path) # reading the raw date (csv)\n",
        "df_co2_out = df_co2_out[['TIMESTAMP','Valve_no', 'CO2_Avg']] # choose your wanted columns from your df\n",
        "df_co2_out = df_co2_out.loc[df_co2_out['Valve_no']== 10] # we want the data from outside - valve 10\n",
        "df_co2_out['TIMESTAMP'] = pd.to_datetime(df_co2_out['TIMESTAMP'])\n",
        "df_co2_out = df_co2_out.iloc[3:] #take the data, starting from the 3rd row (in your dat file, you may need a different start row)\n",
        "df_co2_out = df_co2_out.set_index('TIMESTAMP') #index column\n",
        "df_co2_out = df_co2_out.resample('1min').mean()\n",
        "df_co2_out['CO2_Avg'] = df_co2_out['CO2_Avg'].interpolate() # interpolate Nan values\n",
        "df_co2_out = df_co2_out.loc[df_co2_out['Valve_no']== 10]\n",
        "df_co2_out['CO2_Avg'] = df_co2_out['CO2_Avg'].interpolate()\n",
        "\n",
        "def co2col(df_co2,df,start,end):\n",
        "  df['co2_out'] = df_co2['CO2_Avg'][start:end]\n",
        "  df['co2_out'] = df['co2_out'].interpolate()\n",
        "  df['diff'] = df['co2_in']-df['co2_out']\n",
        "  \n",
        "  return df"
      ],
      "metadata": {
        "id": "Ac7lcybpN3pn",
        "colab": {
          "base_uri": "https://localhost:8080/"
        },
        "outputId": "93e6fa73-ca05-4b85-d58e-0f015bb62349"
      },
      "execution_count": null,
      "outputs": [
        {
          "output_type": "stream",
          "name": "stderr",
          "text": [
            "/usr/local/lib/python3.7/dist-packages/IPython/core/interactiveshell.py:2882: DtypeWarning: Columns (1,2,3,4,5,6,7,8,9) have mixed types.Specify dtype option on import or set low_memory=False.\n",
            "  exec(code_obj, self.user_global_ns, self.user_ns)\n",
            "/usr/local/lib/python3.7/dist-packages/ipykernel_launcher.py:5: SettingWithCopyWarning: \n",
            "A value is trying to be set on a copy of a slice from a DataFrame.\n",
            "Try using .loc[row_indexer,col_indexer] = value instead\n",
            "\n",
            "See the caveats in the documentation: https://pandas.pydata.org/pandas-docs/stable/user_guide/indexing.html#returning-a-view-versus-a-copy\n",
            "  \"\"\"\n"
          ]
        }
      ]
    },
    {
      "cell_type": "code",
      "source": [
        "df_co2_out"
      ],
      "metadata": {
        "id": "NjkSBB9kP9kP",
        "colab": {
          "base_uri": "https://localhost:8080/"
        },
        "outputId": "b3684b4d-e7e9-4f63-ef59-3a71e9fecde0"
      },
      "execution_count": null,
      "outputs": [
        {
          "output_type": "stream",
          "name": "stdout",
          "text": [
            "Warning: total number of rows (46842) exceeds max_rows (20000). Falling back to pandas display.\n"
          ]
        },
        {
          "output_type": "execute_result",
          "data": {
            "text/plain": [
              "                     Valve_no  CO2_Avg\n",
              "TIMESTAMP                             \n",
              "2021-06-17 07:55:00      10.0   424.70\n",
              "2021-06-17 07:56:00      10.0   424.65\n",
              "2021-06-17 08:24:00      10.0   422.75\n",
              "2021-06-17 08:25:00      10.0   422.80\n",
              "2021-06-17 08:26:00      10.0   421.25\n",
              "...                       ...      ...\n",
              "2022-05-08 20:43:00      10.0   397.05\n",
              "2022-05-08 20:44:00      10.0   396.20\n",
              "2022-05-08 21:12:00      10.0   395.80\n",
              "2022-05-08 21:13:00      10.0   399.10\n",
              "2022-05-08 21:14:00      10.0   398.45\n",
              "\n",
              "[46842 rows x 2 columns]"
            ],
            "text/html": [
              "\n",
              "  <div id=\"df-f9ba660e-8cbf-4ffe-a0e3-d78cef8a1fff\">\n",
              "    <div class=\"colab-df-container\">\n",
              "      <div>\n",
              "<style scoped>\n",
              "    .dataframe tbody tr th:only-of-type {\n",
              "        vertical-align: middle;\n",
              "    }\n",
              "\n",
              "    .dataframe tbody tr th {\n",
              "        vertical-align: top;\n",
              "    }\n",
              "\n",
              "    .dataframe thead th {\n",
              "        text-align: right;\n",
              "    }\n",
              "</style>\n",
              "<table border=\"1\" class=\"dataframe\">\n",
              "  <thead>\n",
              "    <tr style=\"text-align: right;\">\n",
              "      <th></th>\n",
              "      <th>Valve_no</th>\n",
              "      <th>CO2_Avg</th>\n",
              "    </tr>\n",
              "    <tr>\n",
              "      <th>TIMESTAMP</th>\n",
              "      <th></th>\n",
              "      <th></th>\n",
              "    </tr>\n",
              "  </thead>\n",
              "  <tbody>\n",
              "    <tr>\n",
              "      <th>2021-06-17 07:55:00</th>\n",
              "      <td>10.0</td>\n",
              "      <td>424.70</td>\n",
              "    </tr>\n",
              "    <tr>\n",
              "      <th>2021-06-17 07:56:00</th>\n",
              "      <td>10.0</td>\n",
              "      <td>424.65</td>\n",
              "    </tr>\n",
              "    <tr>\n",
              "      <th>2021-06-17 08:24:00</th>\n",
              "      <td>10.0</td>\n",
              "      <td>422.75</td>\n",
              "    </tr>\n",
              "    <tr>\n",
              "      <th>2021-06-17 08:25:00</th>\n",
              "      <td>10.0</td>\n",
              "      <td>422.80</td>\n",
              "    </tr>\n",
              "    <tr>\n",
              "      <th>2021-06-17 08:26:00</th>\n",
              "      <td>10.0</td>\n",
              "      <td>421.25</td>\n",
              "    </tr>\n",
              "    <tr>\n",
              "      <th>...</th>\n",
              "      <td>...</td>\n",
              "      <td>...</td>\n",
              "    </tr>\n",
              "    <tr>\n",
              "      <th>2022-05-08 20:43:00</th>\n",
              "      <td>10.0</td>\n",
              "      <td>397.05</td>\n",
              "    </tr>\n",
              "    <tr>\n",
              "      <th>2022-05-08 20:44:00</th>\n",
              "      <td>10.0</td>\n",
              "      <td>396.20</td>\n",
              "    </tr>\n",
              "    <tr>\n",
              "      <th>2022-05-08 21:12:00</th>\n",
              "      <td>10.0</td>\n",
              "      <td>395.80</td>\n",
              "    </tr>\n",
              "    <tr>\n",
              "      <th>2022-05-08 21:13:00</th>\n",
              "      <td>10.0</td>\n",
              "      <td>399.10</td>\n",
              "    </tr>\n",
              "    <tr>\n",
              "      <th>2022-05-08 21:14:00</th>\n",
              "      <td>10.0</td>\n",
              "      <td>398.45</td>\n",
              "    </tr>\n",
              "  </tbody>\n",
              "</table>\n",
              "<p>46842 rows × 2 columns</p>\n",
              "</div>\n",
              "      <button class=\"colab-df-convert\" onclick=\"convertToInteractive('df-f9ba660e-8cbf-4ffe-a0e3-d78cef8a1fff')\"\n",
              "              title=\"Convert this dataframe to an interactive table.\"\n",
              "              style=\"display:none;\">\n",
              "        \n",
              "  <svg xmlns=\"http://www.w3.org/2000/svg\" height=\"24px\"viewBox=\"0 0 24 24\"\n",
              "       width=\"24px\">\n",
              "    <path d=\"M0 0h24v24H0V0z\" fill=\"none\"/>\n",
              "    <path d=\"M18.56 5.44l.94 2.06.94-2.06 2.06-.94-2.06-.94-.94-2.06-.94 2.06-2.06.94zm-11 1L8.5 8.5l.94-2.06 2.06-.94-2.06-.94L8.5 2.5l-.94 2.06-2.06.94zm10 10l.94 2.06.94-2.06 2.06-.94-2.06-.94-.94-2.06-.94 2.06-2.06.94z\"/><path d=\"M17.41 7.96l-1.37-1.37c-.4-.4-.92-.59-1.43-.59-.52 0-1.04.2-1.43.59L10.3 9.45l-7.72 7.72c-.78.78-.78 2.05 0 2.83L4 21.41c.39.39.9.59 1.41.59.51 0 1.02-.2 1.41-.59l7.78-7.78 2.81-2.81c.8-.78.8-2.07 0-2.86zM5.41 20L4 18.59l7.72-7.72 1.47 1.35L5.41 20z\"/>\n",
              "  </svg>\n",
              "      </button>\n",
              "      \n",
              "  <style>\n",
              "    .colab-df-container {\n",
              "      display:flex;\n",
              "      flex-wrap:wrap;\n",
              "      gap: 12px;\n",
              "    }\n",
              "\n",
              "    .colab-df-convert {\n",
              "      background-color: #E8F0FE;\n",
              "      border: none;\n",
              "      border-radius: 50%;\n",
              "      cursor: pointer;\n",
              "      display: none;\n",
              "      fill: #1967D2;\n",
              "      height: 32px;\n",
              "      padding: 0 0 0 0;\n",
              "      width: 32px;\n",
              "    }\n",
              "\n",
              "    .colab-df-convert:hover {\n",
              "      background-color: #E2EBFA;\n",
              "      box-shadow: 0px 1px 2px rgba(60, 64, 67, 0.3), 0px 1px 3px 1px rgba(60, 64, 67, 0.15);\n",
              "      fill: #174EA6;\n",
              "    }\n",
              "\n",
              "    [theme=dark] .colab-df-convert {\n",
              "      background-color: #3B4455;\n",
              "      fill: #D2E3FC;\n",
              "    }\n",
              "\n",
              "    [theme=dark] .colab-df-convert:hover {\n",
              "      background-color: #434B5C;\n",
              "      box-shadow: 0px 1px 3px 1px rgba(0, 0, 0, 0.15);\n",
              "      filter: drop-shadow(0px 1px 2px rgba(0, 0, 0, 0.3));\n",
              "      fill: #FFFFFF;\n",
              "    }\n",
              "  </style>\n",
              "\n",
              "      <script>\n",
              "        const buttonEl =\n",
              "          document.querySelector('#df-f9ba660e-8cbf-4ffe-a0e3-d78cef8a1fff button.colab-df-convert');\n",
              "        buttonEl.style.display =\n",
              "          google.colab.kernel.accessAllowed ? 'block' : 'none';\n",
              "\n",
              "        async function convertToInteractive(key) {\n",
              "          const element = document.querySelector('#df-f9ba660e-8cbf-4ffe-a0e3-d78cef8a1fff');\n",
              "          const dataTable =\n",
              "            await google.colab.kernel.invokeFunction('convertToInteractive',\n",
              "                                                     [key], {});\n",
              "          if (!dataTable) return;\n",
              "\n",
              "          const docLinkHtml = 'Like what you see? Visit the ' +\n",
              "            '<a target=\"_blank\" href=https://colab.research.google.com/notebooks/data_table.ipynb>data table notebook</a>'\n",
              "            + ' to learn more about interactive tables.';\n",
              "          element.innerHTML = '';\n",
              "          dataTable['output_type'] = 'display_data';\n",
              "          await google.colab.output.renderOutput(dataTable, element);\n",
              "          const docLink = document.createElement('div');\n",
              "          docLink.innerHTML = docLinkHtml;\n",
              "          element.appendChild(docLink);\n",
              "        }\n",
              "      </script>\n",
              "    </div>\n",
              "  </div>\n",
              "  "
            ]
          },
          "metadata": {},
          "execution_count": 6
        }
      ]
    },
    {
      "cell_type": "markdown",
      "source": [
        "# Room Exps"
      ],
      "metadata": {
        "id": "91oFfJxBO-mT"
      }
    },
    {
      "cell_type": "markdown",
      "source": [
        "## Rep9 - New Exp\n",
        "05/04/2022 14:40"
      ],
      "metadata": {
        "id": "8NMFfxg0iDAM"
      }
    },
    {
      "cell_type": "code",
      "source": [
        "df_exp9 = co2in_read_new(\"/content/drive/MyDrive/Greenwall/co2_and_counting_people/Co2_different_rooms_exp/rep9_room/co2in.xlsx\",\"/content/drive/MyDrive/Greenwall/co2_and_counting_people/Co2_different_rooms_exp/rep9_room/lab_temp-data-2022-04-07 09_42_59.csv\",\"2022-04-05 13:30:00\",\"2022-04-06 11:15:00\")\n",
        "df_exp9 = co2col(df_co2_out,df_exp9,\"2022-04-05 13:30:00\",\"2022-04-06 11:15:00\")"
      ],
      "metadata": {
        "colab": {
          "base_uri": "https://localhost:8080/",
          "height": 446
        },
        "id": "AAlb1DwDwUFz",
        "outputId": "23dcf255-264e-41a2-a0b6-acab9e84c20a"
      },
      "execution_count": null,
      "outputs": [
        {
          "output_type": "error",
          "ename": "KeyboardInterrupt",
          "evalue": "ignored",
          "traceback": [
            "\u001b[0;31m---------------------------------------------------------------------------\u001b[0m",
            "\u001b[0;31mKeyboardInterrupt\u001b[0m                         Traceback (most recent call last)",
            "\u001b[0;32m<ipython-input-7-948b4e28c803>\u001b[0m in \u001b[0;36m<module>\u001b[0;34m()\u001b[0m\n\u001b[0;32m----> 1\u001b[0;31m \u001b[0mdf_exp9\u001b[0m \u001b[0;34m=\u001b[0m \u001b[0mco2in_read_new\u001b[0m\u001b[0;34m(\u001b[0m\u001b[0;34m\"/content/drive/MyDrive/Greenwall/co2_and_counting_people/Co2_different_rooms_exp/rep9_room/co2in.xlsx\"\u001b[0m\u001b[0;34m,\u001b[0m\u001b[0;34m\"/content/drive/MyDrive/Greenwall/co2_and_counting_people/Co2_different_rooms_exp/rep9_room/lab_temp-data-2022-04-07 09_42_59.csv\"\u001b[0m\u001b[0;34m,\u001b[0m\u001b[0;34m\"2022-04-05 13:30:00\"\u001b[0m\u001b[0;34m,\u001b[0m\u001b[0;34m\"2022-04-06 11:15:00\"\u001b[0m\u001b[0;34m)\u001b[0m\u001b[0;34m\u001b[0m\u001b[0;34m\u001b[0m\u001b[0m\n\u001b[0m\u001b[1;32m      2\u001b[0m \u001b[0mdf_exp9\u001b[0m \u001b[0;34m=\u001b[0m \u001b[0mco2col\u001b[0m\u001b[0;34m(\u001b[0m\u001b[0mdf_co2_out\u001b[0m\u001b[0;34m,\u001b[0m\u001b[0mdf_exp9\u001b[0m\u001b[0;34m,\u001b[0m\u001b[0;34m\"2022-04-05 13:30:00\"\u001b[0m\u001b[0;34m,\u001b[0m\u001b[0;34m\"2022-04-06 11:15:00\"\u001b[0m\u001b[0;34m)\u001b[0m\u001b[0;34m\u001b[0m\u001b[0;34m\u001b[0m\u001b[0m\n",
            "\u001b[0;32m<ipython-input-3-5e2d4b1401ba>\u001b[0m in \u001b[0;36mco2in_read_new\u001b[0;34m(co2in_path, temp_path, start, end)\u001b[0m\n\u001b[1;32m      2\u001b[0m \u001b[0;34m\u001b[0m\u001b[0m\n\u001b[1;32m      3\u001b[0m \u001b[0;31m#-------------------------------- co2 in data--------------------------------\u001b[0m\u001b[0;34m\u001b[0m\u001b[0;34m\u001b[0m\u001b[0;34m\u001b[0m\u001b[0m\n\u001b[0;32m----> 4\u001b[0;31m   \u001b[0mdf\u001b[0m \u001b[0;34m=\u001b[0m \u001b[0mpd\u001b[0m\u001b[0;34m.\u001b[0m\u001b[0mread_excel\u001b[0m\u001b[0;34m(\u001b[0m\u001b[0mco2in_path\u001b[0m\u001b[0;34m)\u001b[0m \u001b[0;31m# reading the raw date (xlsx)\u001b[0m\u001b[0;34m\u001b[0m\u001b[0;34m\u001b[0m\u001b[0m\n\u001b[0m\u001b[1;32m      5\u001b[0m   \u001b[0;31m# combine columns to datime:\u001b[0m\u001b[0;34m\u001b[0m\u001b[0;34m\u001b[0m\u001b[0;34m\u001b[0m\u001b[0m\n\u001b[1;32m      6\u001b[0m   \u001b[0mdf\u001b[0m \u001b[0;34m=\u001b[0m \u001b[0mdf\u001b[0m\u001b[0;34m.\u001b[0m\u001b[0minterpolate\u001b[0m\u001b[0;34m(\u001b[0m\u001b[0;34m)\u001b[0m\u001b[0;34m\u001b[0m\u001b[0;34m\u001b[0m\u001b[0m\n",
            "\u001b[0;32m/usr/local/lib/python3.7/dist-packages/pandas/util/_decorators.py\u001b[0m in \u001b[0;36mwrapper\u001b[0;34m(*args, **kwargs)\u001b[0m\n\u001b[1;32m    309\u001b[0m                     \u001b[0mstacklevel\u001b[0m\u001b[0;34m=\u001b[0m\u001b[0mstacklevel\u001b[0m\u001b[0;34m,\u001b[0m\u001b[0;34m\u001b[0m\u001b[0;34m\u001b[0m\u001b[0m\n\u001b[1;32m    310\u001b[0m                 )\n\u001b[0;32m--> 311\u001b[0;31m             \u001b[0;32mreturn\u001b[0m \u001b[0mfunc\u001b[0m\u001b[0;34m(\u001b[0m\u001b[0;34m*\u001b[0m\u001b[0margs\u001b[0m\u001b[0;34m,\u001b[0m \u001b[0;34m**\u001b[0m\u001b[0mkwargs\u001b[0m\u001b[0;34m)\u001b[0m\u001b[0;34m\u001b[0m\u001b[0;34m\u001b[0m\u001b[0m\n\u001b[0m\u001b[1;32m    312\u001b[0m \u001b[0;34m\u001b[0m\u001b[0m\n\u001b[1;32m    313\u001b[0m         \u001b[0;32mreturn\u001b[0m \u001b[0mwrapper\u001b[0m\u001b[0;34m\u001b[0m\u001b[0;34m\u001b[0m\u001b[0m\n",
            "\u001b[0;32m/usr/local/lib/python3.7/dist-packages/pandas/io/excel/_base.py\u001b[0m in \u001b[0;36mread_excel\u001b[0;34m(io, sheet_name, header, names, index_col, usecols, squeeze, dtype, engine, converters, true_values, false_values, skiprows, nrows, na_values, keep_default_na, na_filter, verbose, parse_dates, date_parser, thousands, comment, skipfooter, convert_float, mangle_dupe_cols, storage_options)\u001b[0m\n\u001b[1;32m    393\u001b[0m             \u001b[0mskipfooter\u001b[0m\u001b[0;34m=\u001b[0m\u001b[0mskipfooter\u001b[0m\u001b[0;34m,\u001b[0m\u001b[0;34m\u001b[0m\u001b[0;34m\u001b[0m\u001b[0m\n\u001b[1;32m    394\u001b[0m             \u001b[0mconvert_float\u001b[0m\u001b[0;34m=\u001b[0m\u001b[0mconvert_float\u001b[0m\u001b[0;34m,\u001b[0m\u001b[0;34m\u001b[0m\u001b[0;34m\u001b[0m\u001b[0m\n\u001b[0;32m--> 395\u001b[0;31m             \u001b[0mmangle_dupe_cols\u001b[0m\u001b[0;34m=\u001b[0m\u001b[0mmangle_dupe_cols\u001b[0m\u001b[0;34m,\u001b[0m\u001b[0;34m\u001b[0m\u001b[0;34m\u001b[0m\u001b[0m\n\u001b[0m\u001b[1;32m    396\u001b[0m         )\n\u001b[1;32m    397\u001b[0m     \u001b[0;32mfinally\u001b[0m\u001b[0;34m:\u001b[0m\u001b[0;34m\u001b[0m\u001b[0;34m\u001b[0m\u001b[0m\n",
            "\u001b[0;32m/usr/local/lib/python3.7/dist-packages/pandas/io/excel/_base.py\u001b[0m in \u001b[0;36mparse\u001b[0;34m(self, sheet_name, header, names, index_col, usecols, squeeze, converters, true_values, false_values, skiprows, nrows, na_values, parse_dates, date_parser, thousands, comment, skipfooter, convert_float, mangle_dupe_cols, **kwds)\u001b[0m\n\u001b[1;32m   1290\u001b[0m             \u001b[0mconvert_float\u001b[0m\u001b[0;34m=\u001b[0m\u001b[0mconvert_float\u001b[0m\u001b[0;34m,\u001b[0m\u001b[0;34m\u001b[0m\u001b[0;34m\u001b[0m\u001b[0m\n\u001b[1;32m   1291\u001b[0m             \u001b[0mmangle_dupe_cols\u001b[0m\u001b[0;34m=\u001b[0m\u001b[0mmangle_dupe_cols\u001b[0m\u001b[0;34m,\u001b[0m\u001b[0;34m\u001b[0m\u001b[0;34m\u001b[0m\u001b[0m\n\u001b[0;32m-> 1292\u001b[0;31m             \u001b[0;34m**\u001b[0m\u001b[0mkwds\u001b[0m\u001b[0;34m,\u001b[0m\u001b[0;34m\u001b[0m\u001b[0;34m\u001b[0m\u001b[0m\n\u001b[0m\u001b[1;32m   1293\u001b[0m         )\n\u001b[1;32m   1294\u001b[0m \u001b[0;34m\u001b[0m\u001b[0m\n",
            "\u001b[0;32m/usr/local/lib/python3.7/dist-packages/pandas/io/excel/_base.py\u001b[0m in \u001b[0;36mparse\u001b[0;34m(self, sheet_name, header, names, index_col, usecols, squeeze, dtype, true_values, false_values, skiprows, nrows, na_values, verbose, parse_dates, date_parser, thousands, comment, skipfooter, convert_float, mangle_dupe_cols, **kwds)\u001b[0m\n\u001b[1;32m    537\u001b[0m                 \u001b[0msheet\u001b[0m \u001b[0;34m=\u001b[0m \u001b[0mself\u001b[0m\u001b[0;34m.\u001b[0m\u001b[0mget_sheet_by_index\u001b[0m\u001b[0;34m(\u001b[0m\u001b[0masheetname\u001b[0m\u001b[0;34m)\u001b[0m\u001b[0;34m\u001b[0m\u001b[0;34m\u001b[0m\u001b[0m\n\u001b[1;32m    538\u001b[0m \u001b[0;34m\u001b[0m\u001b[0m\n\u001b[0;32m--> 539\u001b[0;31m             \u001b[0mdata\u001b[0m \u001b[0;34m=\u001b[0m \u001b[0mself\u001b[0m\u001b[0;34m.\u001b[0m\u001b[0mget_sheet_data\u001b[0m\u001b[0;34m(\u001b[0m\u001b[0msheet\u001b[0m\u001b[0;34m,\u001b[0m \u001b[0mconvert_float\u001b[0m\u001b[0;34m)\u001b[0m\u001b[0;34m\u001b[0m\u001b[0;34m\u001b[0m\u001b[0m\n\u001b[0m\u001b[1;32m    540\u001b[0m             \u001b[0;32mif\u001b[0m \u001b[0mhasattr\u001b[0m\u001b[0;34m(\u001b[0m\u001b[0msheet\u001b[0m\u001b[0;34m,\u001b[0m \u001b[0;34m\"close\"\u001b[0m\u001b[0;34m)\u001b[0m\u001b[0;34m:\u001b[0m\u001b[0;34m\u001b[0m\u001b[0;34m\u001b[0m\u001b[0m\n\u001b[1;32m    541\u001b[0m                 \u001b[0;31m# pyxlsb opens two TemporaryFiles\u001b[0m\u001b[0;34m\u001b[0m\u001b[0;34m\u001b[0m\u001b[0;34m\u001b[0m\u001b[0m\n",
            "\u001b[0;32m/usr/local/lib/python3.7/dist-packages/pandas/io/excel/_openpyxl.py\u001b[0m in \u001b[0;36mget_sheet_data\u001b[0;34m(self, sheet, convert_float)\u001b[0m\n\u001b[1;32m    570\u001b[0m         \u001b[0mdata\u001b[0m\u001b[0;34m:\u001b[0m \u001b[0mlist\u001b[0m\u001b[0;34m[\u001b[0m\u001b[0mlist\u001b[0m\u001b[0;34m[\u001b[0m\u001b[0mScalar\u001b[0m\u001b[0;34m]\u001b[0m\u001b[0;34m]\u001b[0m \u001b[0;34m=\u001b[0m \u001b[0;34m[\u001b[0m\u001b[0;34m]\u001b[0m\u001b[0;34m\u001b[0m\u001b[0;34m\u001b[0m\u001b[0m\n\u001b[1;32m    571\u001b[0m         \u001b[0mlast_row_with_data\u001b[0m \u001b[0;34m=\u001b[0m \u001b[0;34m-\u001b[0m\u001b[0;36m1\u001b[0m\u001b[0;34m\u001b[0m\u001b[0;34m\u001b[0m\u001b[0m\n\u001b[0;32m--> 572\u001b[0;31m         \u001b[0;32mfor\u001b[0m \u001b[0mrow_number\u001b[0m\u001b[0;34m,\u001b[0m \u001b[0mrow\u001b[0m \u001b[0;32min\u001b[0m \u001b[0menumerate\u001b[0m\u001b[0;34m(\u001b[0m\u001b[0msheet\u001b[0m\u001b[0;34m.\u001b[0m\u001b[0mrows\u001b[0m\u001b[0;34m)\u001b[0m\u001b[0;34m:\u001b[0m\u001b[0;34m\u001b[0m\u001b[0;34m\u001b[0m\u001b[0m\n\u001b[0m\u001b[1;32m    573\u001b[0m             \u001b[0mconverted_row\u001b[0m \u001b[0;34m=\u001b[0m \u001b[0;34m[\u001b[0m\u001b[0mself\u001b[0m\u001b[0;34m.\u001b[0m\u001b[0m_convert_cell\u001b[0m\u001b[0;34m(\u001b[0m\u001b[0mcell\u001b[0m\u001b[0;34m,\u001b[0m \u001b[0mconvert_float\u001b[0m\u001b[0;34m)\u001b[0m \u001b[0;32mfor\u001b[0m \u001b[0mcell\u001b[0m \u001b[0;32min\u001b[0m \u001b[0mrow\u001b[0m\u001b[0;34m]\u001b[0m\u001b[0;34m\u001b[0m\u001b[0;34m\u001b[0m\u001b[0m\n\u001b[1;32m    574\u001b[0m             \u001b[0;32mwhile\u001b[0m \u001b[0mconverted_row\u001b[0m \u001b[0;32mand\u001b[0m \u001b[0mconverted_row\u001b[0m\u001b[0;34m[\u001b[0m\u001b[0;34m-\u001b[0m\u001b[0;36m1\u001b[0m\u001b[0;34m]\u001b[0m \u001b[0;34m==\u001b[0m \u001b[0;34m\"\"\u001b[0m\u001b[0;34m:\u001b[0m\u001b[0;34m\u001b[0m\u001b[0;34m\u001b[0m\u001b[0m\n",
            "\u001b[0;32m/usr/local/lib/python3.7/dist-packages/openpyxl/worksheet/_read_only.py\u001b[0m in \u001b[0;36m_cells_by_row\u001b[0;34m(self, min_col, min_row, max_col, max_row, values_only)\u001b[0m\n\u001b[1;32m     77\u001b[0m                                  \u001b[0mdata_only\u001b[0m\u001b[0;34m=\u001b[0m\u001b[0mself\u001b[0m\u001b[0;34m.\u001b[0m\u001b[0mparent\u001b[0m\u001b[0;34m.\u001b[0m\u001b[0mdata_only\u001b[0m\u001b[0;34m,\u001b[0m \u001b[0mepoch\u001b[0m\u001b[0;34m=\u001b[0m\u001b[0mself\u001b[0m\u001b[0;34m.\u001b[0m\u001b[0mparent\u001b[0m\u001b[0;34m.\u001b[0m\u001b[0mepoch\u001b[0m\u001b[0;34m,\u001b[0m\u001b[0;34m\u001b[0m\u001b[0;34m\u001b[0m\u001b[0m\n\u001b[1;32m     78\u001b[0m                                  date_formats=self.parent._date_formats)\n\u001b[0;32m---> 79\u001b[0;31m         \u001b[0;32mfor\u001b[0m \u001b[0midx\u001b[0m\u001b[0;34m,\u001b[0m \u001b[0mrow\u001b[0m \u001b[0;32min\u001b[0m \u001b[0mparser\u001b[0m\u001b[0;34m.\u001b[0m\u001b[0mparse\u001b[0m\u001b[0;34m(\u001b[0m\u001b[0;34m)\u001b[0m\u001b[0;34m:\u001b[0m\u001b[0;34m\u001b[0m\u001b[0;34m\u001b[0m\u001b[0m\n\u001b[0m\u001b[1;32m     80\u001b[0m             \u001b[0;32mif\u001b[0m \u001b[0mmax_row\u001b[0m \u001b[0;32mis\u001b[0m \u001b[0;32mnot\u001b[0m \u001b[0;32mNone\u001b[0m \u001b[0;32mand\u001b[0m \u001b[0midx\u001b[0m \u001b[0;34m>\u001b[0m \u001b[0mmax_row\u001b[0m\u001b[0;34m:\u001b[0m\u001b[0;34m\u001b[0m\u001b[0;34m\u001b[0m\u001b[0m\n\u001b[1;32m     81\u001b[0m                 \u001b[0;32mbreak\u001b[0m\u001b[0;34m\u001b[0m\u001b[0;34m\u001b[0m\u001b[0m\n",
            "\u001b[0;32m/usr/local/lib/python3.7/dist-packages/openpyxl/worksheet/_reader.py\u001b[0m in \u001b[0;36mparse\u001b[0;34m(self)\u001b[0m\n\u001b[1;32m    142\u001b[0m         \u001b[0mit\u001b[0m \u001b[0;34m=\u001b[0m \u001b[0miterparse\u001b[0m\u001b[0;34m(\u001b[0m\u001b[0mself\u001b[0m\u001b[0;34m.\u001b[0m\u001b[0msource\u001b[0m\u001b[0;34m)\u001b[0m \u001b[0;31m# add a finaliser to close the source when this becomes possible\u001b[0m\u001b[0;34m\u001b[0m\u001b[0;34m\u001b[0m\u001b[0m\n\u001b[1;32m    143\u001b[0m \u001b[0;34m\u001b[0m\u001b[0m\n\u001b[0;32m--> 144\u001b[0;31m         \u001b[0;32mfor\u001b[0m \u001b[0m_\u001b[0m\u001b[0;34m,\u001b[0m \u001b[0melement\u001b[0m \u001b[0;32min\u001b[0m \u001b[0mit\u001b[0m\u001b[0;34m:\u001b[0m\u001b[0;34m\u001b[0m\u001b[0;34m\u001b[0m\u001b[0m\n\u001b[0m\u001b[1;32m    145\u001b[0m             \u001b[0mtag_name\u001b[0m \u001b[0;34m=\u001b[0m \u001b[0melement\u001b[0m\u001b[0;34m.\u001b[0m\u001b[0mtag\u001b[0m\u001b[0;34m\u001b[0m\u001b[0;34m\u001b[0m\u001b[0m\n\u001b[1;32m    146\u001b[0m             \u001b[0;32mif\u001b[0m \u001b[0mtag_name\u001b[0m \u001b[0;32min\u001b[0m \u001b[0mdispatcher\u001b[0m\u001b[0;34m:\u001b[0m\u001b[0;34m\u001b[0m\u001b[0;34m\u001b[0m\u001b[0m\n",
            "\u001b[0;32m/usr/lib/python3.7/xml/etree/ElementTree.py\u001b[0m in \u001b[0;36miterator\u001b[0;34m()\u001b[0m\n\u001b[1;32m   1225\u001b[0m                 \u001b[0;32mif\u001b[0m \u001b[0;32mnot\u001b[0m \u001b[0mdata\u001b[0m\u001b[0;34m:\u001b[0m\u001b[0;34m\u001b[0m\u001b[0;34m\u001b[0m\u001b[0m\n\u001b[1;32m   1226\u001b[0m                     \u001b[0;32mbreak\u001b[0m\u001b[0;34m\u001b[0m\u001b[0;34m\u001b[0m\u001b[0m\n\u001b[0;32m-> 1227\u001b[0;31m                 \u001b[0mpullparser\u001b[0m\u001b[0;34m.\u001b[0m\u001b[0mfeed\u001b[0m\u001b[0;34m(\u001b[0m\u001b[0mdata\u001b[0m\u001b[0;34m)\u001b[0m\u001b[0;34m\u001b[0m\u001b[0;34m\u001b[0m\u001b[0m\n\u001b[0m\u001b[1;32m   1228\u001b[0m             \u001b[0mroot\u001b[0m \u001b[0;34m=\u001b[0m \u001b[0mpullparser\u001b[0m\u001b[0;34m.\u001b[0m\u001b[0m_close_and_return_root\u001b[0m\u001b[0;34m(\u001b[0m\u001b[0;34m)\u001b[0m\u001b[0;34m\u001b[0m\u001b[0;34m\u001b[0m\u001b[0m\n\u001b[1;32m   1229\u001b[0m             \u001b[0;32myield\u001b[0m \u001b[0;32mfrom\u001b[0m \u001b[0mpullparser\u001b[0m\u001b[0;34m.\u001b[0m\u001b[0mread_events\u001b[0m\u001b[0;34m(\u001b[0m\u001b[0;34m)\u001b[0m\u001b[0;34m\u001b[0m\u001b[0;34m\u001b[0m\u001b[0m\n",
            "\u001b[0;32m/usr/lib/python3.7/xml/etree/ElementTree.py\u001b[0m in \u001b[0;36mfeed\u001b[0;34m(self, data)\u001b[0m\n\u001b[1;32m   1267\u001b[0m         \u001b[0;32mif\u001b[0m \u001b[0mdata\u001b[0m\u001b[0;34m:\u001b[0m\u001b[0;34m\u001b[0m\u001b[0;34m\u001b[0m\u001b[0m\n\u001b[1;32m   1268\u001b[0m             \u001b[0;32mtry\u001b[0m\u001b[0;34m:\u001b[0m\u001b[0;34m\u001b[0m\u001b[0;34m\u001b[0m\u001b[0m\n\u001b[0;32m-> 1269\u001b[0;31m                 \u001b[0mself\u001b[0m\u001b[0;34m.\u001b[0m\u001b[0m_parser\u001b[0m\u001b[0;34m.\u001b[0m\u001b[0mfeed\u001b[0m\u001b[0;34m(\u001b[0m\u001b[0mdata\u001b[0m\u001b[0;34m)\u001b[0m\u001b[0;34m\u001b[0m\u001b[0;34m\u001b[0m\u001b[0m\n\u001b[0m\u001b[1;32m   1270\u001b[0m             \u001b[0;32mexcept\u001b[0m \u001b[0mSyntaxError\u001b[0m \u001b[0;32mas\u001b[0m \u001b[0mexc\u001b[0m\u001b[0;34m:\u001b[0m\u001b[0;34m\u001b[0m\u001b[0;34m\u001b[0m\u001b[0m\n\u001b[1;32m   1271\u001b[0m                 \u001b[0mself\u001b[0m\u001b[0;34m.\u001b[0m\u001b[0m_events_queue\u001b[0m\u001b[0;34m.\u001b[0m\u001b[0mappend\u001b[0m\u001b[0;34m(\u001b[0m\u001b[0mexc\u001b[0m\u001b[0;34m)\u001b[0m\u001b[0;34m\u001b[0m\u001b[0;34m\u001b[0m\u001b[0m\n",
            "\u001b[0;32m/usr/lib/python3.7/xml/etree/ElementTree.py\u001b[0m in \u001b[0;36mfeed\u001b[0;34m(self, data)\u001b[0m\n\u001b[1;32m   1628\u001b[0m         \u001b[0;34m\"\"\"Feed encoded data to parser.\"\"\"\u001b[0m\u001b[0;34m\u001b[0m\u001b[0;34m\u001b[0m\u001b[0m\n\u001b[1;32m   1629\u001b[0m         \u001b[0;32mtry\u001b[0m\u001b[0;34m:\u001b[0m\u001b[0;34m\u001b[0m\u001b[0;34m\u001b[0m\u001b[0m\n\u001b[0;32m-> 1630\u001b[0;31m             \u001b[0mself\u001b[0m\u001b[0;34m.\u001b[0m\u001b[0mparser\u001b[0m\u001b[0;34m.\u001b[0m\u001b[0mParse\u001b[0m\u001b[0;34m(\u001b[0m\u001b[0mdata\u001b[0m\u001b[0;34m,\u001b[0m \u001b[0;36m0\u001b[0m\u001b[0;34m)\u001b[0m\u001b[0;34m\u001b[0m\u001b[0;34m\u001b[0m\u001b[0m\n\u001b[0m\u001b[1;32m   1631\u001b[0m         \u001b[0;32mexcept\u001b[0m \u001b[0mself\u001b[0m\u001b[0;34m.\u001b[0m\u001b[0m_error\u001b[0m \u001b[0;32mas\u001b[0m \u001b[0mv\u001b[0m\u001b[0;34m:\u001b[0m\u001b[0;34m\u001b[0m\u001b[0;34m\u001b[0m\u001b[0m\n\u001b[1;32m   1632\u001b[0m             \u001b[0mself\u001b[0m\u001b[0;34m.\u001b[0m\u001b[0m_raiseerror\u001b[0m\u001b[0;34m(\u001b[0m\u001b[0mv\u001b[0m\u001b[0;34m)\u001b[0m\u001b[0;34m\u001b[0m\u001b[0;34m\u001b[0m\u001b[0m\n",
            "\u001b[0;32m../Modules/pyexpat.c\u001b[0m in \u001b[0;36mStartElement\u001b[0;34m()\u001b[0m\n",
            "\u001b[0;32m/usr/lib/python3.7/xml/etree/ElementTree.py\u001b[0m in \u001b[0;36m_start\u001b[0;34m(self, tag, attr_list)\u001b[0m\n\u001b[1;32m   1550\u001b[0m         \u001b[0mattrib\u001b[0m \u001b[0;34m=\u001b[0m \u001b[0;34m{\u001b[0m\u001b[0;34m}\u001b[0m\u001b[0;34m\u001b[0m\u001b[0;34m\u001b[0m\u001b[0m\n\u001b[1;32m   1551\u001b[0m         \u001b[0;32mif\u001b[0m \u001b[0mattr_list\u001b[0m\u001b[0;34m:\u001b[0m\u001b[0;34m\u001b[0m\u001b[0;34m\u001b[0m\u001b[0m\n\u001b[0;32m-> 1552\u001b[0;31m             \u001b[0;32mfor\u001b[0m \u001b[0mi\u001b[0m \u001b[0;32min\u001b[0m \u001b[0mrange\u001b[0m\u001b[0;34m(\u001b[0m\u001b[0;36m0\u001b[0m\u001b[0;34m,\u001b[0m \u001b[0mlen\u001b[0m\u001b[0;34m(\u001b[0m\u001b[0mattr_list\u001b[0m\u001b[0;34m)\u001b[0m\u001b[0;34m,\u001b[0m \u001b[0;36m2\u001b[0m\u001b[0;34m)\u001b[0m\u001b[0;34m:\u001b[0m\u001b[0;34m\u001b[0m\u001b[0;34m\u001b[0m\u001b[0m\n\u001b[0m\u001b[1;32m   1553\u001b[0m                 \u001b[0mattrib\u001b[0m\u001b[0;34m[\u001b[0m\u001b[0mfixname\u001b[0m\u001b[0;34m(\u001b[0m\u001b[0mattr_list\u001b[0m\u001b[0;34m[\u001b[0m\u001b[0mi\u001b[0m\u001b[0;34m]\u001b[0m\u001b[0;34m)\u001b[0m\u001b[0;34m]\u001b[0m \u001b[0;34m=\u001b[0m \u001b[0mattr_list\u001b[0m\u001b[0;34m[\u001b[0m\u001b[0mi\u001b[0m\u001b[0;34m+\u001b[0m\u001b[0;36m1\u001b[0m\u001b[0;34m]\u001b[0m\u001b[0;34m\u001b[0m\u001b[0;34m\u001b[0m\u001b[0m\n\u001b[1;32m   1554\u001b[0m         \u001b[0;32mreturn\u001b[0m \u001b[0mself\u001b[0m\u001b[0;34m.\u001b[0m\u001b[0mtarget\u001b[0m\u001b[0;34m.\u001b[0m\u001b[0mstart\u001b[0m\u001b[0;34m(\u001b[0m\u001b[0mtag\u001b[0m\u001b[0;34m,\u001b[0m \u001b[0mattrib\u001b[0m\u001b[0;34m)\u001b[0m\u001b[0;34m\u001b[0m\u001b[0;34m\u001b[0m\u001b[0m\n",
            "\u001b[0;31mKeyboardInterrupt\u001b[0m: "
          ]
        }
      ]
    },
    {
      "cell_type": "code",
      "source": [
        "# graph\n",
        "fig, ax = plt.subplots(1, figsize=(10,7.5))\n",
        "ax.plot(df_exp9[\"time(min)\"],df_exp9['co2_in'],color = \"brown\",label='CO2 inside',  linewidth=4)\n",
        "ax.plot(df_exp9[\"time(min)\"],df_exp9['diff'],color = \"purple\",label='CO2 in - outside',  linewidth=4,alpha=.5)\n",
        "ax.set(xlabel=\"Time (Min)\",\n",
        "       ylabel=\"CO2 Leves ($ppm$)\",\n",
        "       title=\"CO2 inside, outside and temperature\");\n",
        "ax.set_xlim(0,900)\n",
        "plt.legend(loc='upper center')\n",
        "ax2 = ax.twinx()\n",
        "# ax2.plot(df_exp9[\"time(min)\"],df_exp9['11_closet_north'],color = \"seagreen\",label='Temperature',  linewidth=3)\n",
        "ax2.plot(df_exp9[\"time(min)\"],df_exp9['11_closet_north'].rolling(45, center=True).mean(),color = \"gold\", label=\"T smoothed\",linewidth=3, linestyle= \"-\")\n",
        "ax2.set(xlabel=\"Time (Min)\",\n",
        "       ylabel=\"Temperature ($C^{\\circ}$)\");\n",
        "# plt.axhline(y=0, color = \"black\")\n",
        "plt.legend(loc='best')\n",
        "save_results_to = '/content/drive/Othercomputers/My Computer/Desktop/Greenwall/co2_and_counting_people/Co2_different_rooms_exp/rep9_room/'\n",
        "# plt.savefig(save_results_to + 'rep8_room.png')"
      ],
      "metadata": {
        "id": "lBnxUemhxY7_"
      },
      "execution_count": null,
      "outputs": []
    },
    {
      "cell_type": "markdown",
      "source": [
        "## Rep10 - New Exp\n",
        "07/04/2022 14:30"
      ],
      "metadata": {
        "id": "EUC--bOWy1YQ"
      }
    },
    {
      "cell_type": "code",
      "source": [
        "df_exp10 = co2in_read_new(\"/content/drive/MyDrive/Greenwall/co2_and_counting_people/Co2_different_rooms_exp/rep10_room/co2_in.xlsx\",\"/content/drive/MyDrive/Greenwall/co2_and_counting_people/Co2_different_rooms_exp/rep10_room/lab_temp-data-2022-04-10 10_07_40.csv\",\"2022-04-07 13:50:00\",\"2022-04-08 12:15:00\")\n",
        "df_exp10 = co2col(df_co2_out,df_exp10,\"2022-04-07 13:50:00\",\"2022-04-08 12:15:00\")"
      ],
      "metadata": {
        "id": "hy6BP7kTTtJQ"
      },
      "execution_count": null,
      "outputs": []
    },
    {
      "cell_type": "code",
      "source": [
        "# graph\n",
        "fig, ax = plt.subplots(1, figsize=(10,7.5))\n",
        "ax.plot(df_exp10[\"time(min)\"],df_exp10['co2_in'],color = \"brown\",label='CO2 inside',  linewidth=4)\n",
        "ax.plot(df_exp10[\"time(min)\"],df_exp10['diff'],color = \"purple\",label='CO2 in - outside',  linewidth=4,alpha=.5)\n",
        "ax.set(xlabel=\"Time (Min)\",\n",
        "       ylabel=\"CO2 Leves ($ppm$)\",\n",
        "       title=\"CO2 inside, outside and temperature\");\n",
        "ax.set_xlim(0,900)\n",
        "plt.legend(loc='upper center')\n",
        "ax2 = ax.twinx()\n",
        "# ax2.plot(df_exp10[\"time(min)\"],df_exp10['11_closet_north'],color = \"seagreen\",label='Temperature',  linewidth=3)\n",
        "ax2.plot(df_exp10[\"time(min)\"],df_exp10['11_closet_north'].rolling(45, center=True).mean(),color = \"gold\", label=\"T smoothed\",linewidth=3, linestyle= \"-\")\n",
        "ax2.set(xlabel=\"Time (Min)\",\n",
        "       ylabel=\"Temperature ($C^{\\circ}$)\");\n",
        "# plt.axhline(y=0, color = \"black\")\n",
        "plt.legend(loc='best')\n",
        "save_results_to = '/content/drive/Othercomputers/My Computer/Desktop/Greenwall/co2_and_counting_people/Co2_different_rooms_exp/rep9_room/'\n",
        "# plt.savefig(save_results_to + 'rep8_room.png')"
      ],
      "metadata": {
        "id": "Vj_JE_6oUaRh"
      },
      "execution_count": null,
      "outputs": []
    },
    {
      "cell_type": "markdown",
      "source": [
        "## Rep12 - New Exp\n",
        "\n",
        "18/04/2022"
      ],
      "metadata": {
        "id": "uVT7CVoqFLyl"
      }
    },
    {
      "cell_type": "code",
      "source": [
        "df_exp12 = co2in_read_new(\"/content/drive/MyDrive/Greenwall/co2_and_counting_people/Co2_different_rooms_exp/rep12_room/co2_in.xlsx\",\"/content/drive/MyDrive/Greenwall/co2_and_counting_people/Co2_different_rooms_exp/rep12_room/lab_temp-data-2022-04-20 11_20_05.csv\",\"2022-04-18 13:29:00\",\"2022-04-19 07:15:00\")\n",
        "df_exp12 = co2col(df_co2_out,df_exp12,\"2022-04-18 13:29:00\",\"2022-04-19 07:15:00\")"
      ],
      "metadata": {
        "id": "CINoCrTBFQih"
      },
      "execution_count": null,
      "outputs": []
    },
    {
      "cell_type": "code",
      "source": [
        "# graph\n",
        "fig, ax = plt.subplots(1, figsize=(10,7.5))\n",
        "ax.plot(df_exp12[\"time(min)\"],df_exp12['co2_in'],color = \"brown\",label='CO2 inside',  linewidth=4)\n",
        "ax.plot(df_exp12[\"time(min)\"],df_exp12['diff'],color = \"purple\",label='CO2 in - outside',  linewidth=4,alpha=.5)\n",
        "ax.set(xlabel=\"Time (Min)\",\n",
        "       ylabel=\"CO2 Leves ($ppm$)\",\n",
        "       title=\"CO2 inside, outside and temperature\");\n",
        "ax.set_xlim(0,900)\n",
        "plt.legend(loc='upper center')\n",
        "ax2 = ax.twinx()\n",
        "# ax2.plot(df_exp12[\"time(min)\"],df_exp12['11_closet_north'],color = \"seagreen\",label='Temperature',  linewidth=3)\n",
        "ax2.plot(df_exp12[\"time(min)\"],df_exp12['11_closet_north'].rolling(45, center=True).mean(),color = \"gold\", label=\"T smoothed\",linewidth=3, linestyle= \"-\")\n",
        "ax2.set(xlabel=\"Time (Min)\",\n",
        "       ylabel=\"Temperature ($C^{\\circ}$)\");\n",
        "# plt.axhline(y=0, color = \"black\")\n",
        "plt.legend(loc='best')\n",
        "save_results_to = '/content/drive/Othercomputers/My Computer/Desktop/Greenwall/co2_and_counting_people/Co2_different_rooms_exp/rep9_room/'\n",
        "# plt.savefig(save_results_to + 'rep12_room.png')"
      ],
      "metadata": {
        "id": "D5_xz5HeGZ0K"
      },
      "execution_count": null,
      "outputs": []
    },
    {
      "cell_type": "markdown",
      "metadata": {
        "id": "T2wAn5TWxFbX"
      },
      "source": [
        "## **Results room 1 all repititions**"
      ]
    },
    {
      "cell_type": "code",
      "execution_count": null,
      "metadata": {
        "id": "leIEDVeB8v70"
      },
      "outputs": [],
      "source": [
        "start9 = '2022-04-05 13:53:00'\n",
        "start10 = \"2022-04-07 13:52:00\"\n",
        "start12 = '2022-04-18 13:35:00'"
      ]
    },
    {
      "cell_type": "markdown",
      "source": [
        "define t=0 while the co2 levels in maximum:"
      ],
      "metadata": {
        "id": "AQKNKexlvy-a"
      }
    },
    {
      "cell_type": "code",
      "source": [
        "df_exp9 = df_exp9.loc[start9:]\n",
        "df_exp10 = df_exp10.loc[start10:]\n",
        "df_exp12 = df_exp12.loc[start12:]\n",
        "# t 0 will be the max value\n",
        "dfs = [df_exp9,df_exp10,df_exp12]\n",
        "for i in dfs:\n",
        "  time_values = np.arange(1, len(i['co2_in'])+1)\n",
        "  time_values=time_values.tolist()\n",
        "  i[\"time(min)\"] = time_values"
      ],
      "metadata": {
        "id": "zzs2Fc_Sv6I3"
      },
      "execution_count": null,
      "outputs": []
    },
    {
      "cell_type": "code",
      "execution_count": null,
      "metadata": {
        "id": "Mdw3cbPgu7mP"
      },
      "outputs": [],
      "source": [
        " # graph\n",
        "fig, ax = plt.subplots(1, figsize=(10,7.5))\n",
        "\n",
        "# in:\n",
        "ax.plot(df_exp9.loc[start9:][\"time(min)\"],df_exp9.loc[start9:]['co2_in'],label='rep 1',  linewidth=4)\n",
        "ax.plot(df_exp10.loc[start10:][\"time(min)\"],df_exp10.loc[start10:]['co2_in'],label='rep 2',  linewidth=4)\n",
        "ax.plot(df_exp12.loc[start12:][\"time(min)\"],df_exp12.loc[start12:]['co2_in'],label='rep 3',  linewidth=4)\n",
        "\n",
        "# # substructe out:\n",
        "# ax.plot(df_exp9.loc[start9:][\"time(min)\"],df_exp9.loc[start9:]['diff'],label='rep 1',  linewidth=4)\n",
        "# ax.plot(df_exp10.loc[start10:][\"time(min)\"],df_exp10.loc[start10:]['diff'],label='rep 2',  linewidth=4)\n",
        "# ax.plot(df_exp12.loc[start12:][\"time(min)\"],df_exp12.loc[start12:]['diff'],label='rep 3',  linewidth=4)\n",
        "\n",
        "\n",
        "ax.set(xlabel=\"Time (Min)\",\n",
        "       ylabel=\"CO2 Leves ($ppm$)\",\n",
        "       title=\"CO2 inside the room in different times\");\n",
        "# ax.set_ylim(350)\n",
        "plt.legend(loc='best')\n",
        "# save_results_to = '/content/drive/Othercomputers/My Computer/Desktop/Greenwall/co2_and_counting_people/Co2_different_rooms_exp/Graphs/'\n",
        "# plt.savefig(save_results_to + 'room_all_reps.png')"
      ]
    },
    {
      "cell_type": "markdown",
      "source": [
        "## Normalized results:  max= max value"
      ],
      "metadata": {
        "id": "LniD2mDauhuh"
      }
    },
    {
      "cell_type": "code",
      "source": [
        " # graph\n",
        "fig, ax = plt.subplots(1, figsize=(10,7.5))\n",
        "# ax.plot(df_exp7.loc[start7:][\"time(min)\"],df_exp7.loc[start7:]['co2_in']/df_exp7['co2_in'].max(),label='rep 1',  linewidth=4)\n",
        "# ax.plot(df_exp8.loc[start8:][\"time(min)\"],df_exp8.loc[start8:]['co2_in']/df_exp8['co2_in'].max(),label='rep 2',  linewidth=4)\n",
        "# ax.plot(df_exp11.loc[start11:][\"time(min)\"],df_exp11.loc[start11:]['co2_in']/df_exp11['co2_in'].max(),label='rep 5',  linewidth=4)\n",
        "\n",
        "# room\n",
        "# ax.plot(df_exp9.loc[start9:][\"time(min)\"],df_exp9.loc[start9:]['co2_in'].rolling(5, center=True).mean()/df_exp9['co2_in'].max(),label='rep 1',  linewidth=4)\n",
        "# ax.plot(df_exp10.loc[start10:][\"time(min)\"],df_exp10.loc[start10:]['co2_in'].rolling(5, center=True).mean()/df_exp10['co2_in'].max(),label='rep 2',  linewidth=4)\n",
        "# ax.plot(df_exp12.loc[start12:][\"time(min)\"],df_exp12.loc[start12:]['co2_in'].rolling(5, center=True).mean()/df_exp12['co2_in'].max(),label='rep 3',  linewidth=4)\n",
        "\n",
        "# room - out:\n",
        "ax.plot(df_exp9.loc[start9:][\"time(min)\"],df_exp9.loc[start9:]['diff'].rolling(5, center=True).mean()/df_exp9['diff'].max(),label='rep 1',  linewidth=4)\n",
        "ax.plot(df_exp10.loc[start10:][\"time(min)\"],df_exp10.loc[start10:]['diff']/df_exp10['diff'].max(),label='rep 2',  linewidth=4)\n",
        "ax.plot(df_exp12.loc[start12:][\"time(min)\"],df_exp12.loc[start12:]['diff']/df_exp12['diff'].max(),label='rep 3',  linewidth=4)\n",
        "ax.set(xlabel=\"Time (Min)\",\n",
        "       ylabel=\"CO2 Levels / maximum value\",\n",
        "       title=\"CO2 inside the room in different times normalized to maximum value\");\n",
        "# ax.set_ylim(350)\n",
        "plt.legend(loc='best')\n",
        "save_results_to = '/content/drive/Othercomputers/My Computer/Desktop/Greenwall/co2_and_counting_people/Co2_different_rooms_exp/Graphs/'\n",
        "# plt.savefig(save_results_to + 'room_all_reps_subs_normalized.png')"
      ],
      "metadata": {
        "id": "w4ijwE2tuDP6"
      },
      "execution_count": null,
      "outputs": []
    },
    {
      "cell_type": "markdown",
      "source": [
        "# Lab Exp\n"
      ],
      "metadata": {
        "id": "4amqbidgOsCY"
      }
    },
    {
      "cell_type": "markdown",
      "source": [
        "## Rep 1\n",
        "24/04/2022 14:00"
      ],
      "metadata": {
        "id": "J5Ysf_9ZOLOG"
      }
    },
    {
      "cell_type": "code",
      "source": [
        "lab1 = co2in_read_new(\"/content/drive/MyDrive/Greenwall/co2_and_counting_people/Co2_different_rooms_exp/lab_exps/lab1/co2_in.xlsx\",\"/content/drive/MyDrive/Greenwall/co2_and_counting_people/Co2_different_rooms_exp/lab_exps/lab1/lab_temp-data-2022-04-25 12_49_23.csv\",\"2022-04-24 13:05:00\",\"2022-04-25 05:15:00\")\n",
        "lab1 = co2col(df_co2_out,lab1,\"2022-04-24 13:05:00\",\"2022-04-25 05:55:00\")"
      ],
      "metadata": {
        "id": "cqvPn4h_Hd7g"
      },
      "execution_count": null,
      "outputs": []
    },
    {
      "cell_type": "code",
      "source": [
        "# graph\n",
        "fig, ax = plt.subplots(1, figsize=(10,7.5))\n",
        "ax.plot(lab1[\"time(min)\"],lab1['co2_in'],color = \"brown\",label='CO2 inside',  linewidth=4)\n",
        "ax.plot(lab1[\"time(min)\"],lab1['diff'],color = \"purple\",label='CO2 outside',  linewidth=4,alpha=.5)\n",
        "ax.set(xlabel=\"Time (Min)\",\n",
        "       ylabel=\"CO2 Leves ($ppm$)\",\n",
        "       title=\"CO2 inside, outside and temperature\");\n",
        "ax.set_xlim(0,900)\n",
        "plt.legend(loc='upper center')\n",
        "ax2 = ax.twinx()\n",
        "# ax2.plot(lab1[\"time(min)\"],lab1['11_closet_north'],color = \"seagreen\",label='Temperature',  linewidth=3)\n",
        "ax2.plot(lab1[\"time(min)\"],lab1['11_closet_north'].rolling(45, center=True).mean(),color = \"gold\", label=\"T smoothed\",linewidth=3, linestyle= \"-\")\n",
        "ax2.set(xlabel=\"Time (Min)\",\n",
        "       ylabel=\"Temperature ($C^{\\circ}$)\");\n",
        "# plt.axhline(y=0, color = \"black\")\n",
        "plt.legend(loc='best')\n",
        "save_results_to = '/content/drive/MyDrive/Greenwall/co2_and_counting_people/Co2_different_rooms_exp/lab_exps/lab1/'\n",
        "# plt.savefig(save_results_to + 'rep12_room.png')"
      ],
      "metadata": {
        "id": "bW5OdeIgJqxb"
      },
      "execution_count": null,
      "outputs": []
    },
    {
      "cell_type": "markdown",
      "source": [
        "## Rep 3"
      ],
      "metadata": {
        "id": "PxRpVte1tS50"
      }
    },
    {
      "cell_type": "code",
      "source": [
        "lab3 = co2in_read_new(\"/content/drive/MyDrive/Greenwall/co2_and_counting_people/Co2_different_rooms_exp/lab_exps/lab2_3/lab2.xlsx\",\"/content/drive/MyDrive/Greenwall/co2_and_counting_people/Co2_different_rooms_exp/lab_exps/lab2_3/lab_temp-data-2022-05-01 13_55_59.csv\",\"2022-04-30 12:00:00\",\"2022-05-01 02:15:00\")\n",
        "lab3 = co2col(df_co2_out,lab3,\"2022-04-30 12:00:00\",\"2022-05-01 05:55:00\")"
      ],
      "metadata": {
        "id": "JofyyKpStYHh"
      },
      "execution_count": null,
      "outputs": []
    },
    {
      "cell_type": "code",
      "source": [
        "# graph\n",
        "fig, ax = plt.subplots(1, figsize=(10,7.5))\n",
        "ax.plot(lab3[\"time(min)\"],lab3['co2_in'],color = \"brown\",label='CO2 inside',  linewidth=4)\n",
        "ax.plot(lab3[\"time(min)\"],lab3['diff'],color = \"purple\",label='in -  outside',  linewidth=4,alpha=.5)\n",
        "ax.set(xlabel=\"Time (Min)\",\n",
        "       ylabel=\"CO2 Leves ($ppm$)\",\n",
        "       title=\"CO2 inside, outside and temperature\");\n",
        "ax.set_xlim(0,900)\n",
        "plt.legend(loc='upper center')\n",
        "ax2 = ax.twinx()\n",
        "# ax2.plot(lab3[\"time(min)\"],lab3['11_closet_north'],color = \"seagreen\",label='Temperature',  linewidth=3)\n",
        "ax2.plot(lab3[\"time(min)\"],lab3['11_closet_north'].rolling(45, center=True).mean(),color = \"gold\", label=\"T smoothed\",linewidth=3, linestyle= \"-\")\n",
        "ax2.set(xlabel=\"Time (Min)\",\n",
        "       ylabel=\"Temperature ($C^{\\circ}$)\");\n",
        "# plt.axhline(y=0, color = \"black\")\n",
        "plt.legend(loc='best')\n",
        "save_results_to = '/content/drive/MyDrive/Greenwall/co2_and_counting_people/Co2_different_rooms_exp/lab_exps/lab3_3/'\n",
        "# plt.savefig(save_results_to + 'rep12_room.png')"
      ],
      "metadata": {
        "id": "NT-lh697vB43"
      },
      "execution_count": null,
      "outputs": []
    },
    {
      "cell_type": "markdown",
      "source": [
        "## Rep 4"
      ],
      "metadata": {
        "id": "1lwHVmaN-1gp"
      }
    },
    {
      "cell_type": "code",
      "source": [
        "lab4 = co2in_read_new(\"/content/drive/MyDrive/Greenwall/co2_and_counting_people/Co2_different_rooms_exp/lab_exps/lab_4/co2_in.xlsx\",\n",
        "                      \"/content/drive/MyDrive/Greenwall/co2_and_counting_people/Co2_different_rooms_exp/lab_exps/lab_4/lab_temp-data-2022-05-06 18_19_55.csv\",\n",
        "                      \"2022-05-05 11:50:00\",\"2022-05-06 05:55:00\")\n",
        "lab4 = co2col(df_co2_out,lab4,\"2022-05-05 11:50:00\",\"2022-05-06 04:55:00\")"
      ],
      "metadata": {
        "id": "qct1eSqz-6lN"
      },
      "execution_count": null,
      "outputs": []
    },
    {
      "cell_type": "code",
      "source": [
        "# graph\n",
        "fig, ax = plt.subplots(1, figsize=(10,7.5))\n",
        "ax.plot(lab4[\"time(min)\"],lab4['co2_in'],color = \"brown\",label='CO2 inside',  linewidth=4)\n",
        "ax.plot(lab4[\"time(min)\"],lab4['diff'],color = \"purple\",label='in -  outside',  linewidth=4,alpha=.5)\n",
        "ax.set(xlabel=\"Time (Min)\",\n",
        "       ylabel=\"CO2 Leves ($ppm$)\",\n",
        "       title=\"CO2 inside, outside and temperature\");\n",
        "ax.set_xlim(0,900)\n",
        "plt.legend(loc='upper center')\n",
        "ax2 = ax.twinx()\n",
        "# ax2.plot(lab4[\"time(min)\"],lab4['11_closet_north'],color = \"seagreen\",label='Temperature',  linewidth=3)\n",
        "ax2.plot(lab4[\"time(min)\"],lab4['11_closet_north'].rolling(45, center=True).mean(),color = \"gold\", label=\"T smoothed\",linewidth=3, linestyle= \"-\")\n",
        "ax2.set(xlabel=\"Time (Min)\",\n",
        "       ylabel=\"Temperature ($C^{\\circ}$)\");\n",
        "# plt.axhline(y=0, color = \"black\")\n",
        "plt.legend(loc='best')\n",
        "save_results_to = '/content/drive/MyDrive/Greenwall/co2_and_counting_people/Co2_different_rooms_exp/lab_exps/lab4/'\n",
        "# plt.savefig(save_results_to + 'rep12_room.png')"
      ],
      "metadata": {
        "id": "TDVWKyto_UaH"
      },
      "execution_count": null,
      "outputs": []
    },
    {
      "cell_type": "markdown",
      "source": [
        "## Results lab all reps \n"
      ],
      "metadata": {
        "id": "to5FJ_VrKdF6"
      }
    },
    {
      "cell_type": "code",
      "source": [
        "#  What is the index of the max co2 in value?\n",
        "# print(lab4[lab4['co2_in']==lab4['co2_in'].max()]['time(min)'].index)"
      ],
      "metadata": {
        "id": "PQKWfJEPKjNZ"
      },
      "execution_count": null,
      "outputs": []
    },
    {
      "cell_type": "code",
      "source": [
        "start_lab1 = '2022-04-24 13:32:00'\n",
        "start_lab3 = \"2022-04-30 12:15:00\"\n",
        "start_lab4 = '2022-05-05 13:06:00'"
      ],
      "metadata": {
        "id": "uup_qAoDKs21"
      },
      "execution_count": null,
      "outputs": []
    },
    {
      "cell_type": "code",
      "source": [
        "lab1 = lab1.loc[start_lab1:]\n",
        "lab3 = lab3.loc[start_lab3:]\n",
        "lab4 = lab4.loc[start_lab4:]\n",
        "# t 0 will be the max value\n",
        "dfs = [lab1,lab3,lab4]\n",
        "for i in dfs:\n",
        "  time_values = np.arange(1, len(i['co2_in'])+1)\n",
        "  time_values=time_values.tolist()\n",
        "  i[\"time(min)\"] = time_values"
      ],
      "metadata": {
        "id": "oQUy16peKspR"
      },
      "execution_count": null,
      "outputs": []
    },
    {
      "cell_type": "code",
      "source": [
        "fig, ax = plt.subplots(1, figsize=(10,7.5))\n",
        "# ax.plot(lab1.loc[start_lab1:][\"time(min)\"],lab1.loc[start_lab1:]['co2_in'],label='rep 1',  linewidth=4)\n",
        "# ax.plot(lab3.loc[start_lab3:][\"time(min)\"],lab3.loc[start_lab3:]['co2_in'],label='rep 2',  linewidth=4)\n",
        "# ax.plot(lab4.loc[start_lab4:][\"time(min)\"],lab4.loc[start_lab4:]['co2_in'],label='rep 3',  linewidth=4)\n",
        "\n",
        "# substructe co2 out:\n",
        "ax.plot(lab1.loc[start_lab1:][\"time(min)\"],lab1.loc[start_lab1:]['diff'],label='rep 1',  linewidth=4)\n",
        "ax.plot(lab3.loc[start_lab3:][\"time(min)\"],lab3.loc[start_lab3:]['diff'],label='rep 2',  linewidth=4)\n",
        "ax.plot(lab4.loc[start_lab4:][\"time(min)\"],lab4.loc[start_lab3:]['diff'],label='rep 3',  linewidth=4)\n",
        "ax.set(xlabel=\"Time (Min)\",\n",
        "       ylabel=\"CO2 Leves ($ppm$)\",\n",
        "       title=\"CO2 inside the Lab in different times\");\n",
        "plt.legend(loc='best')\n",
        "save_results_to = '/content/drive/Othercomputers/My Computer/Desktop/Greenwall/co2_and_counting_people/Co2_different_rooms_exp/Graphs/'\n",
        "# plt.savefig(save_results_to + 'lab_all_reps_substracted.png')"
      ],
      "metadata": {
        "id": "FA7DXemyLNUx"
      },
      "execution_count": null,
      "outputs": []
    },
    {
      "cell_type": "code",
      "source": [
        "lab1.iloc[-1]"
      ],
      "metadata": {
        "id": "8-wsyT27UYRB"
      },
      "execution_count": null,
      "outputs": []
    },
    {
      "cell_type": "code",
      "source": [
        "# graph\n",
        "fig, ax = plt.subplots(1, figsize=(10,7.5))\n",
        "# ax.plot(lab1.loc[start_lab1:][\"time(min)\"],lab1.loc[start_lab1:]['co2_in']/lab1['co2_in'].max(),label='rep 1',  linewidth=4)\n",
        "# ax.plot(lab3.loc[start_lab3:][\"time(min)\"],lab3.loc[start_lab3:]['co2_in']/lab3['co2_in'].max(),label='rep 2',  linewidth=4)\n",
        "# ax.plot(lab4.loc[start_lab4:][\"time(min)\"],lab4.loc[start_lab4:]['co2_in']/lab4['co2_in'].max(),label='rep 3',  linewidth=4)\n",
        "\n",
        "ax.plot(lab1.loc[start_lab1:][\"time(min)\"],lab1.loc[start_lab1:]['diff']/lab1['diff'].max(),label='rep 1',  linewidth=4)\n",
        "ax.plot(lab3.loc[start_lab3:][\"time(min)\"],lab3.loc[start_lab3:]['diff']/lab3['diff'].max(),label='rep 2',  linewidth=4)\n",
        "ax.plot(lab4.loc[start_lab4:][\"time(min)\"],lab4.loc[start_lab4:]['diff']/lab4['diff'].max(),label='rep 3',  linewidth=4)\n",
        "ax.set(xlabel=\"Time (Min)\",\n",
        "       ylabel=\"CO2 Levels / max\",\n",
        "       title=\"CO2 inside the lab in different times normalized to max value\");\n",
        "# ax.set_ylim(350)\n",
        "plt.legend(loc='best')\n",
        "# save_results_to = '/content/drive/Othercomputers/My Computer/Desktop/Greenwall/co2_and_counting_people/Co2_different_rooms_exp/Graphs/'\n",
        "# plt.savefig(save_results_to + 'lab_all_reps_noramlized.png')"
      ],
      "metadata": {
        "id": "Im4o8tr_LsKd"
      },
      "execution_count": null,
      "outputs": []
    },
    {
      "cell_type": "markdown",
      "source": [
        "# Final results 2 rooms"
      ],
      "metadata": {
        "id": "Jzrk1LAdlmha"
      }
    },
    {
      "cell_type": "code",
      "source": [
        "df_avg = pd.DataFrame(index = lab3['time(min)'].values)\n",
        "# room - out\n",
        "df_avg[\"6\"] = df_exp12['diff'][:len(df_avg.index)].values/df_exp12['diff'].max()\n",
        "df_avg[\"3\"] = df_exp9['diff'][:len(df_avg.index)].values/df_exp9['diff'].max()\n",
        "df_avg[\"4\"] = df_exp10['diff'][:len(df_avg.index)].values/df_exp10['diff'].max()\n",
        "\n",
        "\n",
        "\n",
        "# lab - out co2\n",
        "df_avg[\"lab1\"] = lab1['diff'][:len(df_avg.index)].values/lab1['diff'].max()\n",
        "df_avg[\"lab3\"] = lab3['diff'][:len(df_avg.index)].values/lab3['diff'].max()\n",
        "df_avg[\"lab4\"] = lab4['diff'][:len(df_avg.index)].values/lab4['diff'].max()\n",
        "df_avg[\"3_4_6_avg\"] = df_avg[['6', '3', '4']].mean(axis=1)\n",
        "df_avg[\"3_4_6_std\"] = df_avg[['6', '3', '4']].std(axis=1)\n",
        "df_avg[\"lab_avg\"] = df_avg[[\"lab1\",\"lab3\", \"lab4\"]].mean(axis=1)\n",
        "df_avg[\"lab_std\"] = df_avg[[\"lab1\",\"lab3\", \"lab4\"]].std(axis=1)\n",
        "# df_avg"
      ],
      "metadata": {
        "id": "RMmweIR-z9Ce"
      },
      "execution_count": null,
      "outputs": []
    },
    {
      "cell_type": "markdown",
      "source": [
        "Data frame with the averages of the 2 rooms for the analysis:"
      ],
      "metadata": {
        "id": "rbaOV7qeylYN"
      }
    },
    {
      "cell_type": "code",
      "source": [
        "fig, ax = plt.subplots(1, figsize=(10,7.5))\n",
        "# room data:\n",
        "ax.plot(df_avg[\"3_4_6_avg\"],label='No plants',color=\"#A2B38B\",  linewidth=3)\n",
        "ax.fill_between(df_avg.index,df_avg[\"3_4_6_avg\"] + df_avg[\"3_4_6_std\"], df_avg[\"3_4_6_avg\"] - df_avg[\"3_4_6_std\"],color = \"#A2B38B\",alpha=.5)\n",
        "\n",
        "# lab data\n",
        "ax.plot(df_avg[\"lab_avg\"],label='Plants',color=\"#E6BA95\",  linewidth=3)\n",
        "ax.fill_between(df_avg.index,df_avg[\"lab_avg\"] + df_avg[\"lab_std\"], df_avg[\"lab_avg\"] - df_avg[\"lab_std\"],color = \"#E6BA95\",alpha=.5)\n",
        "ax.set(xlabel=\"Time (Min)\",\n",
        "       ylabel=\"$CO_2$ Levels / Maximum Value\",\n",
        "       title=\"$CO_2$ inside the room in different times normalized by maximum\");\n",
        "# ax.set_xlim(100,900)\n",
        "plt.legend(loc='best')\n",
        "\n",
        "# plt.savefig(save_results_to + 'final_results_full_100-900.png')"
      ],
      "metadata": {
        "id": "8ovCAXKElyQ0"
      },
      "execution_count": null,
      "outputs": []
    },
    {
      "cell_type": "markdown",
      "source": [
        "Find the cross point:"
      ],
      "metadata": {
        "id": "A7NDxHq0xZ5_"
      }
    },
    {
      "cell_type": "code",
      "source": [
        "cross = df_avg[\"3_4_6_avg\"] - df_avg[\"lab_avg\"]\n",
        "# plt.plot(cross[60:])\n",
        "cross_time = cross[75]\n",
        "print(f\"the cross is after 75 minutes\")"
      ],
      "metadata": {
        "id": "kdUJDBf_vxBe"
      },
      "execution_count": null,
      "outputs": []
    },
    {
      "cell_type": "code",
      "source": [
        "df_diff = pd.DataFrame(index=df_avg[\"lab_avg\"].index)\n",
        "df_diff[\"lab\"] = df_avg[\"lab_avg\"]\n",
        "df_diff['room'] = df_avg[\"3_4_6_avg\"]\n",
        "df_diff= df_diff.loc[75:] #start from the cross point\n",
        "\n",
        "df_diff[\"lab\"] =df_diff[\"lab\"] /0.560742 #divide by first value to get 1\n",
        "df_diff[\"room\"] =df_diff[\"room\"] / 0.566784 #divide by first value to get 1\n",
        "df_diff.index = df_diff.index-74 #start from 1\n",
        "plt.plot(df_diff)"
      ],
      "metadata": {
        "id": "nbfkJyfhx8ql"
      },
      "execution_count": null,
      "outputs": []
    },
    {
      "cell_type": "code",
      "source": [
        "df_avg = pd.DataFrame(index = lab3['time(min)'].values)\n",
        "# room\n",
        "df_avg[\"6\"] = df_exp12['co2_in'][:len(df_avg.index)].values/df_exp12['co2_in'].max()\n",
        "df_avg[\"3\"] = df_exp9['co2_in'][:len(df_avg.index)].values/df_exp9['co2_in'].max()\n",
        "df_avg[\"4\"] = df_exp10['co2_in'][:len(df_avg.index)].values/df_exp10['co2_in'].max()\n",
        "\n",
        "# lab\n",
        "df_avg[\"lab1\"] = lab1['co2_in'][:len(df_avg.index)].values/lab1['co2_in'].max()\n",
        "df_avg[\"lab3\"] = lab3['co2_in'][:len(df_avg.index)].values/lab3['co2_in'].max()\n",
        "df_avg[\"lab4\"] = lab4['co2_in'][:len(df_avg.index)].values/lab4['co2_in'].max()\n",
        "\n",
        "df_avg[\"3_4_6_avg\"] = df_avg[['6', '3', '4']].mean(axis=1)\n",
        "df_avg[\"3_4_6_std\"] = df_avg[['6', '3', '4']].std(axis=1)\n",
        "df_avg[\"lab_avg\"] = df_avg[[\"lab1\",\"lab3\", \"lab4\"]].mean(axis=1)\n",
        "df_avg[\"lab_std\"] = df_avg[[\"lab1\",\"lab3\", \"lab4\"]].std(axis=1)\n",
        "# df_avg"
      ],
      "metadata": {
        "id": "esIWVP9o53XB"
      },
      "execution_count": null,
      "outputs": []
    },
    {
      "cell_type": "code",
      "source": [
        "fig, ax = plt.subplots(1, figsize=(10,7.5))\n",
        "# room data:\n",
        "ax.plot(df_avg[\"3_4_6_avg\"],label='No plants',color=\"#A2B38B\",  linewidth=3)\n",
        "ax.fill_between(df_avg.index,df_avg[\"3_4_6_avg\"] + df_avg[\"3_4_6_std\"],\n",
        "                df_avg[\"3_4_6_avg\"] - df_avg[\"3_4_6_std\"],\n",
        "                color = \"#A2B38B\",alpha=.5)\n",
        "\n",
        "# lab data\n",
        "ax.plot(df_avg[\"lab_avg\"],label='Plants',color=\"#E6BA95\",  linewidth=3)\n",
        "ax.fill_between(df_avg.index,df_avg[\"lab_avg\"] + df_avg[\"lab_std\"],\n",
        "                df_avg[\"lab_avg\"] - df_avg[\"lab_std\"],\n",
        "                color = \"#E6BA95\",alpha=.5)\n",
        "ax.set(xlabel=\"Time (Min)\",\n",
        "       ylabel=\"$CO_2$ Levels / Maximum Value\",\n",
        "       title=\"$CO_2$ inside the room in different times normalized by maximum\");\n",
        "# ax.set_xlim(100,900)\n",
        "plt.legend(loc='best')\n",
        "# save_results_to = '/content/drive/Othercomputers/My Computer/Desktop/Greenwall/co2_and_counting_people/Co2_different_rooms_exp/Graphs/'\n",
        "# plt.savefig(save_results_to + 'final_results_full_sub.png')"
      ],
      "metadata": {
        "id": "I8rk7IVXbIfm"
      },
      "execution_count": null,
      "outputs": []
    },
    {
      "cell_type": "markdown",
      "source": [
        "# Analysis:\n",
        "1. for every average plot we will apply exponentiol decey function with the minimum eror.\n",
        "\n",
        "2. we will integate the area beneath the line.\n",
        "\n",
        "3. The different between the areas will be the effect of the wall."
      ],
      "metadata": {
        "id": "zZ8sSPnYL4JR"
      }
    },
    {
      "cell_type": "code",
      "source": [
        "# convert the columns to numpy array:\n",
        "x = df_diff.index.to_numpy() # array of time for x axis\n",
        "y_lab = df_diff[\"lab\"].to_numpy()\n",
        "y_room = df_diff[\"room\"].to_numpy()"
      ],
      "metadata": {
        "id": "aTKtcM6CMed_"
      },
      "execution_count": null,
      "outputs": []
    },
    {
      "cell_type": "code",
      "source": [
        "# define exp function:\n",
        "def exp_decey(constant,data):\n",
        "  y = np.exp(-(x*constant)) #exp function\n",
        "  rmse = np.sqrt(np.mean((y-data)**2)) #rmse calculation\n",
        "  return rmse"
      ],
      "metadata": {
        "id": "8WRHvisXMi0s"
      },
      "execution_count": null,
      "outputs": []
    },
    {
      "cell_type": "markdown",
      "source": [
        "Find the borders of oarameters to set in the function:"
      ],
      "metadata": {
        "id": "d6N5JqkDTqzW"
      }
    },
    {
      "cell_type": "code",
      "source": [
        "y1 = np.exp(-(x*0.02))\n",
        "y2 = np.exp(-(x*0.002))\n",
        "fig, ax = plt.subplots(1, figsize=(10,7.5))\n",
        "# room data:\n",
        "ax.plot(df_diff[\"room\"],label='No plants',color=\"#A2B38B\",  linewidth=3)\n",
        "# lab data\n",
        "ax.plot(df_diff[\"lab\"],label='Plants',color=\"#E6BA95\",  linewidth=3)\n",
        "ax.plot(df_diff.index,y1,label='$y = e^{-0.02x}$',lw=3,color=\"b\")\n",
        "ax.plot(df_diff.index,y2,label='$y = e^{-0.002x}$',lw=3,color=\"c\")\n",
        "\n",
        "\n",
        "ax.set(xlabel=\"Time (Min)\",\n",
        "       ylabel=\"$CO_2$ Levels / Maximum Value\",\n",
        "       title=\"$CO_2$ inside the room in different times normalized by maximum\");\n",
        "# ax.set_xlim(100,900)\n",
        "plt.legend(loc='best')"
      ],
      "metadata": {
        "id": "9rATjKSINhDJ"
      },
      "execution_count": null,
      "outputs": []
    },
    {
      "cell_type": "markdown",
      "source": [
        "create a array between the borders and Fit the data to the functions:\n",
        "1. Lab data.\n",
        "2. Room data"
      ],
      "metadata": {
        "id": "dFC-OlEEWZ4M"
      }
    },
    {
      "cell_type": "code",
      "source": [
        "fit_param = np.arange(0.002,0.02,0.00001)\n",
        "len(fit_param)"
      ],
      "metadata": {
        "id": "EeVHxbMQXBcA"
      },
      "execution_count": null,
      "outputs": []
    },
    {
      "cell_type": "code",
      "source": [
        "fit_param = np.arange(0.002,0.02,0.0001)\n",
        "\n",
        "# 1. Lab:\n",
        "rmse = [] \n",
        "rmse_dict = {}\n",
        "for i in fit_param:\n",
        "  rmse.__iadd__([exp_decey(i,y_lab)])\n",
        "  rmse_dict[exp_decey(i,y_lab)] = i\n",
        "rmse = np.array(rmse)\n",
        "lab_fit = rmse_dict[rmse.min()]"
      ],
      "metadata": {
        "id": "HBnvc_h_UI9J"
      },
      "execution_count": null,
      "outputs": []
    },
    {
      "cell_type": "code",
      "source": [
        "#2. room:\n",
        "rmse_room = [] \n",
        "rmse_room_dict = {}\n",
        "for i in fit_param:\n",
        "  rmse_room.__iadd__([exp_decey(i,y_room)])\n",
        "  rmse_room_dict[exp_decey(i,y_room)] = i\n",
        "rmse_room = np.array(rmse_room)\n",
        "room_fit = rmse_room_dict[rmse_room.min()]"
      ],
      "metadata": {
        "id": "_J3b4VqX6Li2"
      },
      "execution_count": null,
      "outputs": []
    },
    {
      "cell_type": "code",
      "source": [
        "y1 = np.exp(-(x*lab_fit))\n",
        "y2 = np.exp(-(x*room_fit))\n",
        "fig, ax = plt.subplots(1, figsize=(10,7.5))\n",
        "# room data:\n",
        "ax.plot(df_diff[\"room\"],label='No plants',color=\"#E6BA95\",  linewidth=3)\n",
        "ax.plot(df_diff.index,y2,label=f\"y =e^-{round(room_fit,5)}x\\nRmse={round(rmse_room.min(),3)}\",color=\"#E6BA95\",lw=3,ls=\"--\")\n",
        "\n",
        "# lab data\n",
        "ax.plot(df_diff[\"lab\"],label='Plants',color=\"#A2B38B\",  linewidth=3)\n",
        "ax.plot(df_diff.index,y1,label=f\"y =e^-{round(lab_fit,5)}x\\n Rmse={round(rmse.min(),3)}\",color=\"#A2B38B\",lw=3,ls=\"--\")\n",
        "\n",
        "ax.set(xlabel=\"Time (Min)\",\n",
        "       ylabel=\"$CO_2$ Levels / Maximum Value\",\n",
        "       title=\"$CO_2$ inside the room in different times normalized by maximum\");\n",
        "# ax.set_xlim(100,900)\n",
        "plt.legend(loc='best')"
      ],
      "metadata": {
        "id": "jQLmqxPZZWW-"
      },
      "execution_count": null,
      "outputs": []
    },
    {
      "cell_type": "markdown",
      "source": [
        "Intigrate this diferent to calculte the grey area above:"
      ],
      "metadata": {
        "id": "_iDK9oy59FzZ"
      }
    },
    {
      "cell_type": "code",
      "source": [
        "room_integral = np.trapz(y2, x=df_diff.index, dx=1.0)\n",
        "lab_integral = np.trapz(y1, x=df_diff.index, dx=1.0)\n",
        "difference = room_integral - lab_integral\n",
        "difference"
      ],
      "metadata": {
        "id": "vWsi3hWcbiQQ"
      },
      "execution_count": null,
      "outputs": []
    },
    {
      "cell_type": "code",
      "source": [
        "y1 = np.exp(-(x*lab_fit))\n",
        "y2 = np.exp(-(x*room_fit))\n",
        "fig, ax = plt.subplots(1, figsize=(10,7.5))\n",
        "# room data:\n",
        "ax.plot(df_diff[\"room\"],label='No plants',color=\"#E6BA95\",  linewidth=3)\n",
        "ax.plot(df_diff.index,y2,label=f\"y =e^-{round(room_fit,5)}x\\nRmse={round(rmse_room.min(),3)}\",color=\"#E6BA95\",lw=3,ls=\"--\")\n",
        "\n",
        "# lab data\n",
        "ax.plot(df_diff[\"lab\"],label='Plants',color=\"#A2B38B\",  linewidth=3)\n",
        "ax.plot(df_diff.index,y1,label=f\"y =e^-{round(lab_fit,5)}x\\n Rmse={round(rmse.min(),3)}\",color=\"#A2B38B\",lw=3,ls=\"--\")\n",
        "\n",
        "ax.fill_between(df_diff.index,y2,y1,hatch='\\\\\\\\\\\\\\\\', facecolor='#D5D8B5',alpha=.5,label = f\"difference={round(difference,1)}\")\n",
        "ax.set(xlabel=\"Time (Min)\",\n",
        "       ylabel=\"$CO_2$ Levels / Maximum Value\",\n",
        "       title=\"$CO_2$ inside the room in different times normalized by maximum\");\n",
        "# ax.set_xlim(100,900)\n",
        "plt.legend(loc='best')\n",
        "save_results_to = '/content/drive/Othercomputers/My Computer/Desktop/Greenwall/co2_and_counting_people/Co2_different_rooms_exp/Graphs/'\n",
        "# plt.savefig(save_results_to + 'final_integral.png')"
      ],
      "metadata": {
        "id": "BDlKKFRx94rj"
      },
      "execution_count": null,
      "outputs": []
    },
    {
      "cell_type": "markdown",
      "source": [
        "Now lets use this fit in order to use real values and calculate the area between the lines.\n",
        "We need to use the eqution (for the no plants for exsample):\n",
        "\n",
        "$$f(x) = a*e^{-0.0034x} $$\n",
        "\n",
        "While:\n",
        "\n",
        "$f(x) = $ $CO_2$ levels\n",
        "\n",
        "$x = time_{(min)}$\n",
        "\n",
        "$a=$ (Max_value_CO2 )\n",
        "\n",
        "Then we will convert the $CO_2$ values from ppm to g with the eqution:\n",
        "\n",
        "$$CO_2 (g) = V_{room}[m^3] * \\frac{V_{CO_2} }{10^{6}V_{Air}}[ppm]*Density_{(CO_2)}*1000[\\frac{g}{Kg}] $$\n",
        "\n",
        "while:\n",
        "\n",
        " - $CO_2 (g)$ = $CO_2[g]$\n",
        "\n",
        " - **$V_{room}$** = volume of the room [$m^3$]\n",
        "\n",
        " - $\\frac{V_{CO_2} }{10^{6}V_{Air}}$ = ppm [$\\frac{\\frac{Kg}{m^3} (co_2)}{10^6\\frac{Kg}{m^3}(Air)}]$\n",
        "\n",
        " - $Density_{(CO_2)}$ = $CO_2$ density [$\\frac{Kg}\n",
        "{m^3}$]"
      ],
      "metadata": {
        "id": "vK_NMZ0fMgM6"
      }
    },
    {
      "cell_type": "code",
      "source": [
        "def co2_calculation(max_val,df,LAI): \n",
        "  # max val is the value of co2 inside\n",
        "  df1 = df \n",
        "  df1 = df1*max_val\n",
        "  \n",
        "  # fit the data\n",
        "  # define the constants:\n",
        "  a_room = (max_val)\n",
        "  a_lab = (max_val)\n",
        "  yroom = a_room*(np.exp(-0.0034*df.index)) #fit of room data\n",
        "  ylab = a_lab*(np.exp(-0.0064*df.index)) #fit of room data\n",
        "  \n",
        "  # integral:\n",
        "  room_integral = np.trapz(yroom.values, x=df1.index, dx=1.0)\n",
        "  lab_integral = np.trapz(ylab.values, x=df1.index, dx=1.0)\n",
        "  volume_ppm = room_integral - lab_integral #sum of ppms\n",
        "  print(f\"minimum of co2 out = {yroom.min()}\")\n",
        "  print(f\"minimum of co2 lab = {ylab.min()}\")\n",
        "  #------------- convert ppm to g:----------------\n",
        "  # 1.PARAMETERS\n",
        "  volume = 135 #volume of the lab (m^3)\n",
        "  density_co2 = 1.87 #[kg/m^3]\n",
        "  ratio_ppm = volume_ppm/1e6 #ppm is one in milion\n",
        "\n",
        "  # 2. Calculation:\n",
        "  w_c = volume*ratio_ppm*density_co2 # [Kg]\n",
        "  w_c = w_c*1000 # [g]\n",
        "\n",
        "  #------------- convert ppm to flux:----------------\n",
        "  molar_mass_co2 = 44 #molar mass carbon [g/mol]\n",
        "  time = df.index[-1]*60 #total time converted to [sec]\n",
        "  area = 15*LAI # area of the wall[m^2]* LAI (number of layers)\n",
        "  co2_flux = (w_c/molar_mass_co2)/(time*area) #[mol/(s*m^2)]\n",
        "\n",
        "\n",
        "  # ------------plot--------------\n",
        "  fig, ax = plt.subplots(1, figsize=(10,7.5))\n",
        "  # room data:\n",
        "  ax.plot(df1.index,yroom,label=\"fit No plants\",color=\"#E6BA95\",lw=3,ls=\"--\")\n",
        "  # lab data\n",
        "  # ax.plot(df1['lab']+co2_out,label='Plants',color=\"#A2B38B\",  linewidth=3)\n",
        "  ax.plot(df1.index,ylab,label=\"fit Plants\",color=\"#A2B38B\",lw=3,ls=\"--\")\n",
        "\n",
        "  ax.fill_between(df1.index,yroom,ylab,hatch='\\\\\\\\\\\\\\\\', facecolor='#D5D8B5',alpha=.5,\n",
        "                  label = f\"difference={int(w_c)} $(g_c)$\")\n",
        "  ax.set(xlabel=\"Time (Min)\",\n",
        "        ylabel=\"$CO_2$ Levels (ppm)\",\n",
        "        title=\"$CO_2$ exps\");\n",
        "  plt.legend(loc='best')\n",
        "\n",
        "  # ------------Results--------------\n",
        "  print(f\"Total ppm without plants = {room_integral*1000} [g]\")\n",
        "  print(f\"Total ppm with plants = {lab_integral*1000} [g]\")\n",
        "  # print(f\"ppm difference = {weight_ppm}\")\n",
        "  # print(f\"Area = {area} [m^2]\")\n",
        "  print(f\"ratio ppm = {ratio_ppm} \")\n",
        "  # print(f\"Air weight = {w_air/1000} [kg]\")\n",
        "  print(f\"Total difference={int(w_c)} [g] co2\")\n",
        "  print(f\"CO2 flux ={co2_flux*1e6} [umol/(s*m^2)]\")\n",
        "  \n",
        "\n",
        "  return w_c"
      ],
      "metadata": {
        "id": "qhbmPDI_MFk8"
      },
      "execution_count": null,
      "outputs": []
    },
    {
      "cell_type": "code",
      "source": [
        "a = co2_calculation(2000,df_diff,1)\n"
      ],
      "metadata": {
        "id": "t3cBOCk8MdmP"
      },
      "execution_count": null,
      "outputs": []
    },
    {
      "cell_type": "markdown",
      "source": [
        "# $CO_2$ Assimilation rates Model\n",
        "---\n",
        "\n",
        "Now i want to compare between the rates of the 2 rooms and see what the effect of the greenwall.\n",
        "\n",
        "We have 11 samples from the room without plants and 3 samples from the room with plants. the calculation of the rate will be by the following eqution:\n",
        "\n",
        "$$CO_2 \\textrm{ Rate} = \\frac{V_{CO_2} }{10^{6}V_{Air}}\\times V_{Air}\\times ρ_{(CO_2)}  \\times 1000 \\times  \\frac{1}{time}$$\n",
        "\n",
        "### While:\n",
        "\n",
        "\n",
        "*  #### $CO_2 \\textrm{ Rate}$ = $[\\frac{g_{(CO_2)} }{min}]$\n",
        "\n",
        "*  #### $ \\frac{V_{CO_2} }{10^{6}V_{Air}} =  \\frac{[m^3_{CO_2}] }{[m^3_{Air}]}=[ppm]$\n",
        "\n",
        "* #### $V_{Air} = $ *The volume of the room* $140[m^3_{Air}]$\n",
        "\n",
        "* #### $ρ_{(CO_2)}$ = $CO_2$ density  $= 1.87\\frac{[Kg_{(CO_2)}]}{[m^3_{(CO_2)}]}$\n",
        "\n",
        "* #### $1000 = \\frac{[Kg_{(CO_2)}]}{[m^3_{(CO_2)}]}$\n",
        "\n",
        "* #### $time = \\textrm{Time from maximum levels of }CO_2 \\textrm{ to outside levels } [Min]$\n",
        "\n",
        "\n",
        "\n",
        "\n",
        "#### I will load an excel file with all this parameters and than i will compare the means of the 2 rooms with T test.\n"
      ],
      "metadata": {
        "id": "ayVulpv3W1nu"
      }
    },
    {
      "cell_type": "code",
      "source": [
        "parameters_path = \"/content/drive/MyDrive/Greenwall/co2_and_counting_people/Co2_different_rooms_exp/Rates_Analysis.xlsx\"\n",
        "df_model = pd.read_excel(parameters_path,sheet_name=\"גיליון1\") # reading the raw date (xlsx)\n",
        "df_model"
      ],
      "metadata": {
        "colab": {
          "base_uri": "https://localhost:8080/",
          "height": 391
        },
        "id": "MccZuWChd5xx",
        "outputId": "ad0ad8f3-4ffb-4b70-e08d-d6504b55f213"
      },
      "execution_count": null,
      "outputs": [
        {
          "output_type": "execute_result",
          "data": {
            "text/plain": [
              "   Space  Rep  Max_CO2(ppm)  Time(min)  CO2_density(kg/m^3)  Volume  \\\n",
              "0   Room    1           940        500                 1.87     140   \n",
              "1   Room    2           850        400                 1.87     140   \n",
              "2   Room    4           800        700                 1.87     140   \n",
              "3   Room    5          1000        800                 1.87     140   \n",
              "4   Room    6           618        900                 1.87     140   \n",
              "5   Room    7          5500        500                 1.87     140   \n",
              "6   Room    8          4000        550                 1.87     140   \n",
              "7   Room    9         10000        900                 1.87     140   \n",
              "8   Room   10         10000        700                 1.87     140   \n",
              "9   Room   11          4500        700                 1.87     140   \n",
              "10  Room   12          3500        400                 1.87     140   \n",
              "11   Lab    1          7000        700                 1.87     140   \n",
              "12   Lab    3          6800        450                 1.87     140   \n",
              "13   Lab    4          5500        500                 1.87     140   \n",
              "\n",
              "    Rate(g/min)  Rate(ppm/h)  \n",
              "0      0.492184   112.800000  \n",
              "1      0.556325   127.500000  \n",
              "2      0.299200    68.571429  \n",
              "3      0.327250    75.000000  \n",
              "4      0.179769    41.200000  \n",
              "5      2.879800   660.000000  \n",
              "6      1.904000   436.363636  \n",
              "7      2.908889   666.666667  \n",
              "8      3.740000   857.142857  \n",
              "9      1.683000   385.714286  \n",
              "10     2.290750   525.000000  \n",
              "11     2.618000   600.000000  \n",
              "12     3.956089   906.666667  \n",
              "13     2.879800   660.000000  "
            ],
            "text/html": [
              "\n",
              "  <div id=\"df-b4a508ba-01c8-4086-b613-5c374c3a9fd4\">\n",
              "    <div class=\"colab-df-container\">\n",
              "      <div>\n",
              "<style scoped>\n",
              "    .dataframe tbody tr th:only-of-type {\n",
              "        vertical-align: middle;\n",
              "    }\n",
              "\n",
              "    .dataframe tbody tr th {\n",
              "        vertical-align: top;\n",
              "    }\n",
              "\n",
              "    .dataframe thead th {\n",
              "        text-align: right;\n",
              "    }\n",
              "</style>\n",
              "<table border=\"1\" class=\"dataframe\">\n",
              "  <thead>\n",
              "    <tr style=\"text-align: right;\">\n",
              "      <th></th>\n",
              "      <th>Space</th>\n",
              "      <th>Rep</th>\n",
              "      <th>Max_CO2(ppm)</th>\n",
              "      <th>Time(min)</th>\n",
              "      <th>CO2_density(kg/m^3)</th>\n",
              "      <th>Volume</th>\n",
              "      <th>Rate(g/min)</th>\n",
              "      <th>Rate(ppm/h)</th>\n",
              "    </tr>\n",
              "  </thead>\n",
              "  <tbody>\n",
              "    <tr>\n",
              "      <th>0</th>\n",
              "      <td>Room</td>\n",
              "      <td>1</td>\n",
              "      <td>940</td>\n",
              "      <td>500</td>\n",
              "      <td>1.87</td>\n",
              "      <td>140</td>\n",
              "      <td>0.492184</td>\n",
              "      <td>112.800000</td>\n",
              "    </tr>\n",
              "    <tr>\n",
              "      <th>1</th>\n",
              "      <td>Room</td>\n",
              "      <td>2</td>\n",
              "      <td>850</td>\n",
              "      <td>400</td>\n",
              "      <td>1.87</td>\n",
              "      <td>140</td>\n",
              "      <td>0.556325</td>\n",
              "      <td>127.500000</td>\n",
              "    </tr>\n",
              "    <tr>\n",
              "      <th>2</th>\n",
              "      <td>Room</td>\n",
              "      <td>4</td>\n",
              "      <td>800</td>\n",
              "      <td>700</td>\n",
              "      <td>1.87</td>\n",
              "      <td>140</td>\n",
              "      <td>0.299200</td>\n",
              "      <td>68.571429</td>\n",
              "    </tr>\n",
              "    <tr>\n",
              "      <th>3</th>\n",
              "      <td>Room</td>\n",
              "      <td>5</td>\n",
              "      <td>1000</td>\n",
              "      <td>800</td>\n",
              "      <td>1.87</td>\n",
              "      <td>140</td>\n",
              "      <td>0.327250</td>\n",
              "      <td>75.000000</td>\n",
              "    </tr>\n",
              "    <tr>\n",
              "      <th>4</th>\n",
              "      <td>Room</td>\n",
              "      <td>6</td>\n",
              "      <td>618</td>\n",
              "      <td>900</td>\n",
              "      <td>1.87</td>\n",
              "      <td>140</td>\n",
              "      <td>0.179769</td>\n",
              "      <td>41.200000</td>\n",
              "    </tr>\n",
              "    <tr>\n",
              "      <th>5</th>\n",
              "      <td>Room</td>\n",
              "      <td>7</td>\n",
              "      <td>5500</td>\n",
              "      <td>500</td>\n",
              "      <td>1.87</td>\n",
              "      <td>140</td>\n",
              "      <td>2.879800</td>\n",
              "      <td>660.000000</td>\n",
              "    </tr>\n",
              "    <tr>\n",
              "      <th>6</th>\n",
              "      <td>Room</td>\n",
              "      <td>8</td>\n",
              "      <td>4000</td>\n",
              "      <td>550</td>\n",
              "      <td>1.87</td>\n",
              "      <td>140</td>\n",
              "      <td>1.904000</td>\n",
              "      <td>436.363636</td>\n",
              "    </tr>\n",
              "    <tr>\n",
              "      <th>7</th>\n",
              "      <td>Room</td>\n",
              "      <td>9</td>\n",
              "      <td>10000</td>\n",
              "      <td>900</td>\n",
              "      <td>1.87</td>\n",
              "      <td>140</td>\n",
              "      <td>2.908889</td>\n",
              "      <td>666.666667</td>\n",
              "    </tr>\n",
              "    <tr>\n",
              "      <th>8</th>\n",
              "      <td>Room</td>\n",
              "      <td>10</td>\n",
              "      <td>10000</td>\n",
              "      <td>700</td>\n",
              "      <td>1.87</td>\n",
              "      <td>140</td>\n",
              "      <td>3.740000</td>\n",
              "      <td>857.142857</td>\n",
              "    </tr>\n",
              "    <tr>\n",
              "      <th>9</th>\n",
              "      <td>Room</td>\n",
              "      <td>11</td>\n",
              "      <td>4500</td>\n",
              "      <td>700</td>\n",
              "      <td>1.87</td>\n",
              "      <td>140</td>\n",
              "      <td>1.683000</td>\n",
              "      <td>385.714286</td>\n",
              "    </tr>\n",
              "    <tr>\n",
              "      <th>10</th>\n",
              "      <td>Room</td>\n",
              "      <td>12</td>\n",
              "      <td>3500</td>\n",
              "      <td>400</td>\n",
              "      <td>1.87</td>\n",
              "      <td>140</td>\n",
              "      <td>2.290750</td>\n",
              "      <td>525.000000</td>\n",
              "    </tr>\n",
              "    <tr>\n",
              "      <th>11</th>\n",
              "      <td>Lab</td>\n",
              "      <td>1</td>\n",
              "      <td>7000</td>\n",
              "      <td>700</td>\n",
              "      <td>1.87</td>\n",
              "      <td>140</td>\n",
              "      <td>2.618000</td>\n",
              "      <td>600.000000</td>\n",
              "    </tr>\n",
              "    <tr>\n",
              "      <th>12</th>\n",
              "      <td>Lab</td>\n",
              "      <td>3</td>\n",
              "      <td>6800</td>\n",
              "      <td>450</td>\n",
              "      <td>1.87</td>\n",
              "      <td>140</td>\n",
              "      <td>3.956089</td>\n",
              "      <td>906.666667</td>\n",
              "    </tr>\n",
              "    <tr>\n",
              "      <th>13</th>\n",
              "      <td>Lab</td>\n",
              "      <td>4</td>\n",
              "      <td>5500</td>\n",
              "      <td>500</td>\n",
              "      <td>1.87</td>\n",
              "      <td>140</td>\n",
              "      <td>2.879800</td>\n",
              "      <td>660.000000</td>\n",
              "    </tr>\n",
              "  </tbody>\n",
              "</table>\n",
              "</div>\n",
              "      <button class=\"colab-df-convert\" onclick=\"convertToInteractive('df-b4a508ba-01c8-4086-b613-5c374c3a9fd4')\"\n",
              "              title=\"Convert this dataframe to an interactive table.\"\n",
              "              style=\"display:none;\">\n",
              "        \n",
              "  <svg xmlns=\"http://www.w3.org/2000/svg\" height=\"24px\"viewBox=\"0 0 24 24\"\n",
              "       width=\"24px\">\n",
              "    <path d=\"M0 0h24v24H0V0z\" fill=\"none\"/>\n",
              "    <path d=\"M18.56 5.44l.94 2.06.94-2.06 2.06-.94-2.06-.94-.94-2.06-.94 2.06-2.06.94zm-11 1L8.5 8.5l.94-2.06 2.06-.94-2.06-.94L8.5 2.5l-.94 2.06-2.06.94zm10 10l.94 2.06.94-2.06 2.06-.94-2.06-.94-.94-2.06-.94 2.06-2.06.94z\"/><path d=\"M17.41 7.96l-1.37-1.37c-.4-.4-.92-.59-1.43-.59-.52 0-1.04.2-1.43.59L10.3 9.45l-7.72 7.72c-.78.78-.78 2.05 0 2.83L4 21.41c.39.39.9.59 1.41.59.51 0 1.02-.2 1.41-.59l7.78-7.78 2.81-2.81c.8-.78.8-2.07 0-2.86zM5.41 20L4 18.59l7.72-7.72 1.47 1.35L5.41 20z\"/>\n",
              "  </svg>\n",
              "      </button>\n",
              "      \n",
              "  <style>\n",
              "    .colab-df-container {\n",
              "      display:flex;\n",
              "      flex-wrap:wrap;\n",
              "      gap: 12px;\n",
              "    }\n",
              "\n",
              "    .colab-df-convert {\n",
              "      background-color: #E8F0FE;\n",
              "      border: none;\n",
              "      border-radius: 50%;\n",
              "      cursor: pointer;\n",
              "      display: none;\n",
              "      fill: #1967D2;\n",
              "      height: 32px;\n",
              "      padding: 0 0 0 0;\n",
              "      width: 32px;\n",
              "    }\n",
              "\n",
              "    .colab-df-convert:hover {\n",
              "      background-color: #E2EBFA;\n",
              "      box-shadow: 0px 1px 2px rgba(60, 64, 67, 0.3), 0px 1px 3px 1px rgba(60, 64, 67, 0.15);\n",
              "      fill: #174EA6;\n",
              "    }\n",
              "\n",
              "    [theme=dark] .colab-df-convert {\n",
              "      background-color: #3B4455;\n",
              "      fill: #D2E3FC;\n",
              "    }\n",
              "\n",
              "    [theme=dark] .colab-df-convert:hover {\n",
              "      background-color: #434B5C;\n",
              "      box-shadow: 0px 1px 3px 1px rgba(0, 0, 0, 0.15);\n",
              "      filter: drop-shadow(0px 1px 2px rgba(0, 0, 0, 0.3));\n",
              "      fill: #FFFFFF;\n",
              "    }\n",
              "  </style>\n",
              "\n",
              "      <script>\n",
              "        const buttonEl =\n",
              "          document.querySelector('#df-b4a508ba-01c8-4086-b613-5c374c3a9fd4 button.colab-df-convert');\n",
              "        buttonEl.style.display =\n",
              "          google.colab.kernel.accessAllowed ? 'block' : 'none';\n",
              "\n",
              "        async function convertToInteractive(key) {\n",
              "          const element = document.querySelector('#df-b4a508ba-01c8-4086-b613-5c374c3a9fd4');\n",
              "          const dataTable =\n",
              "            await google.colab.kernel.invokeFunction('convertToInteractive',\n",
              "                                                     [key], {});\n",
              "          if (!dataTable) return;\n",
              "\n",
              "          const docLinkHtml = 'Like what you see? Visit the ' +\n",
              "            '<a target=\"_blank\" href=https://colab.research.google.com/notebooks/data_table.ipynb>data table notebook</a>'\n",
              "            + ' to learn more about interactive tables.';\n",
              "          element.innerHTML = '';\n",
              "          dataTable['output_type'] = 'display_data';\n",
              "          await google.colab.output.renderOutput(dataTable, element);\n",
              "          const docLink = document.createElement('div');\n",
              "          docLink.innerHTML = docLinkHtml;\n",
              "          element.appendChild(docLink);\n",
              "        }\n",
              "      </script>\n",
              "    </div>\n",
              "  </div>\n",
              "  "
            ],
            "application/vnd.google.colaboratory.module+javascript": "\n      import \"https://ssl.gstatic.com/colaboratory/data_table/f872b2c2305463fd/data_table.js\";\n\n      window.createDataTable({\n        data: [[{\n            'v': 0,\n            'f': \"0\",\n        },\n\"Room\",\n{\n            'v': 1,\n            'f': \"1\",\n        },\n{\n            'v': 940,\n            'f': \"940\",\n        },\n{\n            'v': 500,\n            'f': \"500\",\n        },\n{\n            'v': 1.87,\n            'f': \"1.87\",\n        },\n{\n            'v': 140,\n            'f': \"140\",\n        },\n{\n            'v': 0.492184,\n            'f': \"0.492184\",\n        },\n{\n            'v': 112.8,\n            'f': \"112.8\",\n        }],\n [{\n            'v': 1,\n            'f': \"1\",\n        },\n\"Room\",\n{\n            'v': 2,\n            'f': \"2\",\n        },\n{\n            'v': 850,\n            'f': \"850\",\n        },\n{\n            'v': 400,\n            'f': \"400\",\n        },\n{\n            'v': 1.87,\n            'f': \"1.87\",\n        },\n{\n            'v': 140,\n            'f': \"140\",\n        },\n{\n            'v': 0.556325,\n            'f': \"0.556325\",\n        },\n{\n            'v': 127.5,\n            'f': \"127.5\",\n        }],\n [{\n            'v': 2,\n            'f': \"2\",\n        },\n\"Room\",\n{\n            'v': 4,\n            'f': \"4\",\n        },\n{\n            'v': 800,\n            'f': \"800\",\n        },\n{\n            'v': 700,\n            'f': \"700\",\n        },\n{\n            'v': 1.87,\n            'f': \"1.87\",\n        },\n{\n            'v': 140,\n            'f': \"140\",\n        },\n{\n            'v': 0.2992,\n            'f': \"0.2992\",\n        },\n{\n            'v': 68.57142857142857,\n            'f': \"68.57142857142857\",\n        }],\n [{\n            'v': 3,\n            'f': \"3\",\n        },\n\"Room\",\n{\n            'v': 5,\n            'f': \"5\",\n        },\n{\n            'v': 1000,\n            'f': \"1000\",\n        },\n{\n            'v': 800,\n            'f': \"800\",\n        },\n{\n            'v': 1.87,\n            'f': \"1.87\",\n        },\n{\n            'v': 140,\n            'f': \"140\",\n        },\n{\n            'v': 0.32725000000000004,\n            'f': \"0.32725000000000004\",\n        },\n{\n            'v': 75.0,\n            'f': \"75.0\",\n        }],\n [{\n            'v': 4,\n            'f': \"4\",\n        },\n\"Room\",\n{\n            'v': 6,\n            'f': \"6\",\n        },\n{\n            'v': 618,\n            'f': \"618\",\n        },\n{\n            'v': 900,\n            'f': \"900\",\n        },\n{\n            'v': 1.87,\n            'f': \"1.87\",\n        },\n{\n            'v': 140,\n            'f': \"140\",\n        },\n{\n            'v': 0.17976933333333334,\n            'f': \"0.17976933333333334\",\n        },\n{\n            'v': 41.2,\n            'f': \"41.2\",\n        }],\n [{\n            'v': 5,\n            'f': \"5\",\n        },\n\"Room\",\n{\n            'v': 7,\n            'f': \"7\",\n        },\n{\n            'v': 5500,\n            'f': \"5500\",\n        },\n{\n            'v': 500,\n            'f': \"500\",\n        },\n{\n            'v': 1.87,\n            'f': \"1.87\",\n        },\n{\n            'v': 140,\n            'f': \"140\",\n        },\n{\n            'v': 2.8798000000000004,\n            'f': \"2.8798000000000004\",\n        },\n{\n            'v': 660.0,\n            'f': \"660.0\",\n        }],\n [{\n            'v': 6,\n            'f': \"6\",\n        },\n\"Room\",\n{\n            'v': 8,\n            'f': \"8\",\n        },\n{\n            'v': 4000,\n            'f': \"4000\",\n        },\n{\n            'v': 550,\n            'f': \"550\",\n        },\n{\n            'v': 1.87,\n            'f': \"1.87\",\n        },\n{\n            'v': 140,\n            'f': \"140\",\n        },\n{\n            'v': 1.9040000000000001,\n            'f': \"1.9040000000000001\",\n        },\n{\n            'v': 436.3636363636364,\n            'f': \"436.3636363636364\",\n        }],\n [{\n            'v': 7,\n            'f': \"7\",\n        },\n\"Room\",\n{\n            'v': 9,\n            'f': \"9\",\n        },\n{\n            'v': 10000,\n            'f': \"10000\",\n        },\n{\n            'v': 900,\n            'f': \"900\",\n        },\n{\n            'v': 1.87,\n            'f': \"1.87\",\n        },\n{\n            'v': 140,\n            'f': \"140\",\n        },\n{\n            'v': 2.908888888888889,\n            'f': \"2.908888888888889\",\n        },\n{\n            'v': 666.6666666666666,\n            'f': \"666.6666666666666\",\n        }],\n [{\n            'v': 8,\n            'f': \"8\",\n        },\n\"Room\",\n{\n            'v': 10,\n            'f': \"10\",\n        },\n{\n            'v': 10000,\n            'f': \"10000\",\n        },\n{\n            'v': 700,\n            'f': \"700\",\n        },\n{\n            'v': 1.87,\n            'f': \"1.87\",\n        },\n{\n            'v': 140,\n            'f': \"140\",\n        },\n{\n            'v': 3.74,\n            'f': \"3.74\",\n        },\n{\n            'v': 857.1428571428572,\n            'f': \"857.1428571428572\",\n        }],\n [{\n            'v': 9,\n            'f': \"9\",\n        },\n\"Room\",\n{\n            'v': 11,\n            'f': \"11\",\n        },\n{\n            'v': 4500,\n            'f': \"4500\",\n        },\n{\n            'v': 700,\n            'f': \"700\",\n        },\n{\n            'v': 1.87,\n            'f': \"1.87\",\n        },\n{\n            'v': 140,\n            'f': \"140\",\n        },\n{\n            'v': 1.6830000000000003,\n            'f': \"1.6830000000000003\",\n        },\n{\n            'v': 385.7142857142857,\n            'f': \"385.7142857142857\",\n        }],\n [{\n            'v': 10,\n            'f': \"10\",\n        },\n\"Room\",\n{\n            'v': 12,\n            'f': \"12\",\n        },\n{\n            'v': 3500,\n            'f': \"3500\",\n        },\n{\n            'v': 400,\n            'f': \"400\",\n        },\n{\n            'v': 1.87,\n            'f': \"1.87\",\n        },\n{\n            'v': 140,\n            'f': \"140\",\n        },\n{\n            'v': 2.29075,\n            'f': \"2.29075\",\n        },\n{\n            'v': 525.0,\n            'f': \"525.0\",\n        }],\n [{\n            'v': 11,\n            'f': \"11\",\n        },\n\"Lab\",\n{\n            'v': 1,\n            'f': \"1\",\n        },\n{\n            'v': 7000,\n            'f': \"7000\",\n        },\n{\n            'v': 700,\n            'f': \"700\",\n        },\n{\n            'v': 1.87,\n            'f': \"1.87\",\n        },\n{\n            'v': 140,\n            'f': \"140\",\n        },\n{\n            'v': 2.6180000000000003,\n            'f': \"2.6180000000000003\",\n        },\n{\n            'v': 600.0,\n            'f': \"600.0\",\n        }],\n [{\n            'v': 12,\n            'f': \"12\",\n        },\n\"Lab\",\n{\n            'v': 3,\n            'f': \"3\",\n        },\n{\n            'v': 6800,\n            'f': \"6800\",\n        },\n{\n            'v': 450,\n            'f': \"450\",\n        },\n{\n            'v': 1.87,\n            'f': \"1.87\",\n        },\n{\n            'v': 140,\n            'f': \"140\",\n        },\n{\n            'v': 3.956088888888889,\n            'f': \"3.956088888888889\",\n        },\n{\n            'v': 906.6666666666666,\n            'f': \"906.6666666666666\",\n        }],\n [{\n            'v': 13,\n            'f': \"13\",\n        },\n\"Lab\",\n{\n            'v': 4,\n            'f': \"4\",\n        },\n{\n            'v': 5500,\n            'f': \"5500\",\n        },\n{\n            'v': 500,\n            'f': \"500\",\n        },\n{\n            'v': 1.87,\n            'f': \"1.87\",\n        },\n{\n            'v': 140,\n            'f': \"140\",\n        },\n{\n            'v': 2.8798000000000004,\n            'f': \"2.8798000000000004\",\n        },\n{\n            'v': 660.0,\n            'f': \"660.0\",\n        }]],\n        columns: [[\"number\", \"index\"], [\"string\", \"Space\"], [\"number\", \"Rep\"], [\"number\", \"Max_CO2(ppm)\"], [\"number\", \"Time(min)\"], [\"number\", \"CO2_density(kg/m^3)\"], [\"number\", \"Volume\"], [\"number\", \"Rate(g/min)\"], [\"number\", \"Rate(ppm/h)\"]],\n        columnOptions: [{\"width\": \"1px\", \"className\": \"index_column\"}],\n        rowsPerPage: 25,\n        helpUrl: \"https://colab.research.google.com/notebooks/data_table.ipynb\",\n        suppressOutputScrolling: true,\n        minimumWidth: undefined,\n      });\n    "
          },
          "metadata": {},
          "execution_count": 8
        }
      ]
    },
    {
      "cell_type": "code",
      "source": [
        "# Add label to boxplot\n",
        "import matplotlib.patheffects as path_effects\n",
        "\n",
        "def add_median_labels(ax, fmt='.1f'):\n",
        "    lines = ax.get_lines()\n",
        "    boxes = [c for c in ax.get_children() if type(c).__name__ == 'PathPatch']\n",
        "    lines_per_box = int(len(lines) / len(boxes))\n",
        "    for median in lines[4:len(lines):lines_per_box]:\n",
        "        x, y = (data.mean() for data in median.get_data())\n",
        "        # choose value depending on horizontal or vertical plot orientation\n",
        "        value = x if (median.get_xdata()[1] - median.get_xdata()[0]) == 0 else y\n",
        "        text = ax.text(x, y, f'{value:{fmt}}', ha='center', va='center',\n",
        "                       fontweight='bold', color='white')\n",
        "        # create median-colored border around white text for contrast\n",
        "        text.set_path_effects([\n",
        "            path_effects.Stroke(linewidth=3, foreground=median.get_color()),\n",
        "            path_effects.Normal(),\n",
        "        ])"
      ],
      "metadata": {
        "id": "hxWuoG-w0H1W"
      },
      "execution_count": null,
      "outputs": []
    },
    {
      "cell_type": "code",
      "source": [
        "# Plot the boxplots:\n",
        "palette = [\"#A2B38B\", \"#E6BA95\"]\n",
        "sns.set_theme(style=\"white\",palette=palette,font_scale = 1.5)\n",
        "fig, ax = plt.subplots(1,1, figsize=(8,6))\n",
        "df_model[df_model.columns[-1]]=df_model[df_model.columns[-1]] *(-1)\n",
        "df_model[df_model.columns[-2]]=df_model[df_model.columns[-2]] *(-1)\n",
        "ax = sns.boxplot(data=df_model, x=\"Space\",y=df_model.columns[-2])\n",
        "add_median_labels(ax)\n",
        "# ax = sns.swarmplot(data=df_model, x=\"Space\",y=df_model.columns[-1],color=\"black\")\n",
        "ax.set_xlabel(\" \")\n",
        "ax.set_xticklabels(['No plants', 'Plants'])\n",
        "ax.set_ylabel(\"$CO_2$ reduction rate$(g/min)$\",fontsize=20)\n",
        "ax.set_title(\"$CO_2$ reduction rate - high levels \",fontsize=20)\n",
        "# plt.xticks(rotation=30)\n",
        "plt.savefig(\"/content/drive/MyDrive/Greenwall/co2_and_counting_people/Co2_different_rooms_exp/Graphs/\" + 'boxplot_result.png',bbox_inches = \"tight\")"
      ],
      "metadata": {
        "colab": {
          "base_uri": "https://localhost:8080/",
          "height": 430
        },
        "id": "Yl-0BeEskeQ3",
        "outputId": "29afd75e-8017-45f6-9efa-d9df73be7983"
      },
      "execution_count": null,
      "outputs": [
        {
          "output_type": "display_data",
          "data": {
            "text/plain": [
              "<Figure size 576x432 with 1 Axes>"
            ],
            "image/png": "[encoded data removed]"
          },
          "metadata": {}
        }
      ]
    },
    {
      "cell_type": "code",
      "source": [
        "# Plot the boxplots:\n",
        "palette = [\"#A2B38B\", \"#E6BA95\"]\n",
        "sns.set_theme(style=\"white\",palette=palette,font_scale = 1.5)\n",
        "fig, ax = plt.subplots(1,1, figsize=(8,6))\n",
        "ax = sns.boxplot(data=df_model, x=\"Space\",y=df_model.columns[-1])\n",
        "add_median_labels(ax)\n",
        "# ax = sns.swarmplot(data=df_model, x=\"Space\",y=df_model.columns[-1],color=\"black\")\n",
        "ax.set_xlabel(\" \")\n",
        "ax.set_xticklabels(['No plants', 'Plants'])\n",
        "ax.set_ylabel(\"$CO_2$ reduction rate$(ppm/h)$\",fontsize=20)\n",
        "ax.set_title(\"$CO_2$ reduction rate - high levels \",fontsize=20)\n",
        "# plt.xticks(rotation=30)\n",
        "# plt.savefig(\"/content/drive/MyDrive/Greenwall/co2_and_counting_people/Co2_different_rooms_exp/Graphs/\" + 'boxplot_result.png',bbox_inches = \"tight\")"
      ],
      "metadata": {
        "colab": {
          "base_uri": "https://localhost:8080/",
          "height": 447
        },
        "id": "vSeJvzsVOiZH",
        "outputId": "9163b46f-b8ea-4d52-cfcf-59c3fcd16c7a"
      },
      "execution_count": null,
      "outputs": [
        {
          "output_type": "execute_result",
          "data": {
            "text/plain": [
              "Text(0.5, 1.0, '$CO_2$ reduction rate - high levels ')"
            ]
          },
          "metadata": {},
          "execution_count": 10
        },
        {
          "output_type": "display_data",
          "data": {
            "text/plain": [
              "<Figure size 576x432 with 1 Axes>"
            ],
            "image/png": "[encoded data removed]"
          },
          "metadata": {}
        }
      ]
    },
    {
      "cell_type": "code",
      "source": [
        "# Poster graph:\n",
        "# Plot the boxplots:\n",
        "palette = [\"#16db65\", \"#058c42\"]\n",
        "sns.set_theme(style=\"white\",palette=palette,font_scale = 1.5)\n",
        "fig, ax = plt.subplots(1,1, figsize=(11,4))\n",
        "ax = sns.boxplot(data=df_model, x=\"Space\",y=df_model.columns[-1])\n",
        "add_median_labels(ax)\n",
        "# ax = sns.swarmplot(data=df_model, x=\"Space\",y=df_model.columns[-1],color=\"black\")\n",
        "ax.set_xlabel(\" \")\n",
        "ax.set_xticklabels(['No plants', 'Plants'])\n",
        "ax.set_ylabel(\"$CO_2$ reduction rate$(g/min)$\",fontsize=20)\n",
        "ax.set_title(\"$CO_2$ reduction rate - high levels\",fontsize=20)\n",
        "# plt.xticks(rotation=30)\n",
        "plt.savefig(\"/content/drive/MyDrive/Yehuda_David/Papers/Poster_ISEES2022/Figures/\" + 'boxplot_high_co2_levels.png',bbox_inches = \"tight\")"
      ],
      "metadata": {
        "colab": {
          "base_uri": "https://localhost:8080/",
          "height": 321
        },
        "id": "z8gLB7sa0-MV",
        "outputId": "ea684137-ff1f-483e-d9c3-5d29ef759d38"
      },
      "execution_count": null,
      "outputs": [
        {
          "output_type": "display_data",
          "data": {
            "text/plain": [
              "<Figure size 792x288 with 1 Axes>"
            ],
            "image/png": "[encoded data removed]"
          },
          "metadata": {}
        }
      ]
    },
    {
      "cell_type": "markdown",
      "source": [
        "Now i want to compare this results to the A/Ci curve results:\n",
        "\n",
        "The calculation from the $A/C_i$ results is based on the average $CO_2$ assimilation in every $CO_2$ levels:\n",
        "\n",
        "| **Ca (ppm)** \t| Tradescantia_avg \t| Peperomia_avg \t| Monalisa_avg \t| Philodendron_avg \t| Chlorophytum_avg \t| Sphatophilum_avg \t| **Avg** \t|  \t|\n",
        "|---:\t|:---:\t|:---:\t|:---:\t|:---:\t|:---:\t|:---:\t|:---:\t|:---:\t|\n",
        "| 450 \t| 5.238593 \t| 2.628896 \t| 4.357822 \t| 1.807792 \t| 3.368031 \t| 3.272076 \t| **3.445535**\t|  \t|\n",
        "| 1000 \t| 7.498271 \t| 6.183144 \t| 6.561647 \t| 3.937961 \t| 5.143762 \t| 6.087026 \t| **5.901968** \t|  \t|\n",
        "| 1500 \t| 8.118467 \t| 8.160859 \t| 7.160715 \t| 4.707718 \t| 5.686992 \t| 6.95907 \t| **6.79897** \t|  \t|\n",
        "| 1999 \t| 8.275246 \t| 9.116433 \t| 7.340634 \t| 4.998873 \t| 5.953955 \t| 7.336946 \t| **7.170348** \t|  \t|\n",
        "\n",
        "The estimation of how much $CO_2$ the whole greenwall is uptake is by the folowing eqution:\n",
        "\n",
        "## $$CO_2 \\textrm{ Rate} = A\\times Area\\times LAI\\times CO_2{\\textrm{ Molar mass}}\\times \\frac{1}{10^6}\\times 60$$\n",
        "\n",
        "### While:\n",
        "\n",
        "\n",
        "*  #### $CO_2 \\textrm{ Rate}$ = $[\\frac{g_{(CO_2)} }{min}]$\n",
        "\n",
        "*  #### $ A = CO_2$ Assimilation rate $[\\textrm{μmol }CO_2*s^-1*m^-2]$\n",
        "\n",
        "* #### $ Area = \\textrm{Area of the wall } [m^2\\textrm{ wall}]$\n",
        "\n",
        "* #### $LAI = \\textrm{Leaf Area index } [\\frac{m^2 \\textrm{ leaf}}{m^2\\textrm{ wall}}]$\n",
        "\n",
        "* #### $CO_2{\\textrm{ Molar mass}}= 44 [\\frac{g}{mol}]$\n",
        "\n",
        "* #### $\\frac{1}{10^6} = [\\frac{mol}{μmol}]$\n",
        "\n",
        "* #### $60 = [\\frac{sec}{min}]$\n",
        "\n",
        "<!-- * #### $Time = Time \\textrm{ [min]}$ -->"
      ],
      "metadata": {
        "id": "gwb8yDQA1_NR"
      }
    },
    {
      "cell_type": "code",
      "source": [
        "def Assimilation_model(A,Area,LAI):\n",
        "  # constants\n",
        "  molar_mass = 44\n",
        "  time_convert= 60\n",
        "  mol_convert = 1/(10**6)\n",
        "\n",
        "  # the model:\n",
        "  rate = A*Area*LAI*molar_mass*time_convert*mol_convert\n",
        "  # print(f\"The co2 assimilation rate of the wall is {rate} [g/min]\")\n",
        "  return rate"
      ],
      "metadata": {
        "id": "MQZ_by31yUtn"
      },
      "execution_count": null,
      "outputs": []
    },
    {
      "cell_type": "markdown",
      "source": [
        "Let find the maximum and minimum based on the A/Ci results:"
      ],
      "metadata": {
        "id": "ZozfZZncSL8S"
      }
    },
    {
      "cell_type": "code",
      "source": [
        "max_rate = Assimilation_model(A=7.170348,Area=16,LAI=5 )\n",
        "min_rate = Assimilation_model(A=3.445535,Area=16,LAI=5 )\n",
        "min_rate,max_rate"
      ],
      "metadata": {
        "colab": {
          "base_uri": "https://localhost:8080/"
        },
        "id": "xgQbbOHmRyOn",
        "outputId": "a54a651f-5b71-4e42-fd69-3966dd6be497"
      },
      "execution_count": null,
      "outputs": [
        {
          "output_type": "execute_result",
          "data": {
            "text/plain": [
              "(0.727696992, 1.5143774976)"
            ]
          },
          "metadata": {},
          "execution_count": 14
        }
      ]
    },
    {
      "cell_type": "code",
      "source": [
        "# Plot:\n",
        "lab_model = df_model[df_model['Space']==\"Lab\"]\n",
        "lab_model['Rate(g/min)'] = lab_model['Rate(g/min)']-1.7\n",
        "fig, ax = plt.subplots(1,1, figsize=(8,6))\n",
        "ax = sns.boxplot(data=lab_model, x=\"Space\",y=df_model.columns[-1])\n",
        "add_median_labels(ax)\n",
        "# ax = sns.swarmplot(data=lab_model, x=\"Space\",y=df_model.columns[-1],color=\"black\")\n",
        "plt.axhline(y = max_rate, color = 'black',lw=3, linestyle = '--',label=\"Max-2000 ppm\")\n",
        "plt.axhline(y = min_rate, color = 'black',lw=3, linestyle = '-',label=\"Min-450 ppm\")\n",
        "ax.set_xlabel(\" \")\n",
        "ax.set_ylabel(\"$CO_2$ Rate $(g/min)$\",fontsize=20)\n",
        "ax.set_title(\"$CO_2$ Rates\",fontsize=20)\n",
        "plt.legend(loc= \"upper right\")\n",
        "# plt.xticks(rotation=30)\n",
        "# plt.savefig(\"/content/drive/MyDrive/Greenwall/co2_and_counting_people/Co2_different_rooms_exp/Graphs/\" + 'model_results.png',bbox_inches = \"tight\")"
      ],
      "metadata": {
        "colab": {
          "base_uri": "https://localhost:8080/",
          "height": 561
        },
        "id": "bwz8QsuRS8MZ",
        "outputId": "9a28db86-6abd-42bc-9de9-941851b4e62e"
      },
      "execution_count": null,
      "outputs": [
        {
          "output_type": "stream",
          "name": "stderr",
          "text": [
            "/usr/local/lib/python3.7/dist-packages/ipykernel_launcher.py:3: SettingWithCopyWarning: \n",
            "A value is trying to be set on a copy of a slice from a DataFrame.\n",
            "Try using .loc[row_indexer,col_indexer] = value instead\n",
            "\n",
            "See the caveats in the documentation: https://pandas.pydata.org/pandas-docs/stable/user_guide/indexing.html#returning-a-view-versus-a-copy\n",
            "  This is separate from the ipykernel package so we can avoid doing imports until\n"
          ]
        },
        {
          "output_type": "execute_result",
          "data": {
            "text/plain": [
              "<matplotlib.legend.Legend at 0x7fe459ef4790>"
            ]
          },
          "metadata": {},
          "execution_count": 15
        },
        {
          "output_type": "display_data",
          "data": {
            "text/plain": [
              "<Figure size 576x432 with 1 Axes>"
            ],
            "image/png": "[encoded data removed]"
          },
          "metadata": {}
        }
      ]
    },
    {
      "cell_type": "code",
      "source": [],
      "metadata": {
        "id": "8X1U6F4k9ppU"
      },
      "execution_count": null,
      "outputs": []
    }
  ],
  "metadata": {
    "colab": {
      "provenance": []
    },
    "kernelspec": {
      "display_name": "Python 3",
      "name": "python3"
    },
    "language_info": {
      "name": "python"
    }
  },
  "nbformat": 4,
  "nbformat_minor": 0
}